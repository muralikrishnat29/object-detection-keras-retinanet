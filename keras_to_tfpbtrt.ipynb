{
  "nbformat": 4,
  "nbformat_minor": 0,
  "metadata": {
    "colab": {
      "name": "keras_to_tfpbtrt.ipynb",
      "provenance": [],
      "authorship_tag": "ABX9TyM236BRTmDaD23ioDERUac4",
      "include_colab_link": true
    },
    "kernelspec": {
      "name": "python3",
      "display_name": "Python 3"
    }
  },
  "cells": [
    {
      "cell_type": "markdown",
      "metadata": {
        "id": "view-in-github",
        "colab_type": "text"
      },
      "source": [
        "<a href=\"https://colab.research.google.com/github/muralikrishnat29/object-detection-keras-retinanet/blob/master/keras_to_tfpbtrt.ipynb\" target=\"_parent\"><img src=\"https://colab.research.google.com/assets/colab-badge.svg\" alt=\"Open In Colab\"/></a>"
      ]
    },
    {
      "cell_type": "code",
      "metadata": {
        "id": "kYvL6cmYrXcZ",
        "colab_type": "code",
        "colab": {
          "base_uri": "https://localhost:8080/",
          "height": 125
        },
        "outputId": "e472419f-9ca8-4774-b648-75b2fb98f097"
      },
      "source": [
        "from google.colab import drive\n",
        "drive.mount('/content/drive')"
      ],
      "execution_count": 1,
      "outputs": [
        {
          "output_type": "stream",
          "text": [
            "Go to this URL in a browser: https://accounts.google.com/o/oauth2/auth?client_id=947318989803-6bn6qk8qdgf4n4g3pfee6491hc0brc4i.apps.googleusercontent.com&redirect_uri=urn%3aietf%3awg%3aoauth%3a2.0%3aoob&response_type=code&scope=email%20https%3a%2f%2fwww.googleapis.com%2fauth%2fdocs.test%20https%3a%2f%2fwww.googleapis.com%2fauth%2fdrive%20https%3a%2f%2fwww.googleapis.com%2fauth%2fdrive.photos.readonly%20https%3a%2f%2fwww.googleapis.com%2fauth%2fpeopleapi.readonly\n",
            "\n",
            "Enter your authorization code:\n",
            "··········\n",
            "Mounted at /content/drive\n"
          ],
          "name": "stdout"
        }
      ]
    },
    {
      "cell_type": "code",
      "metadata": {
        "id": "VD1SINdbqYqf",
        "colab_type": "code",
        "colab": {
          "base_uri": "https://localhost:8080/",
          "height": 64
        },
        "outputId": "98054c7e-636f-45dd-ca8c-21718747dcc5"
      },
      "source": [
        "import tensorflow as tf\n",
        "import shutil \n",
        "import os"
      ],
      "execution_count": 2,
      "outputs": [
        {
          "output_type": "display_data",
          "data": {
            "text/html": [
              "<p style=\"color: red;\">\n",
              "The default version of TensorFlow in Colab will switch to TensorFlow 2.x on the 27th of March, 2020.<br>\n",
              "We recommend you <a href=\"https://www.tensorflow.org/guide/migrate\" target=\"_blank\">upgrade</a> now\n",
              "or ensure your notebook will continue to use TensorFlow 1.x via the <code>%tensorflow_version 1.x</code> magic:\n",
              "<a href=\"https://colab.research.google.com/notebooks/tensorflow_version.ipynb\" target=\"_blank\">more info</a>.</p>\n"
            ],
            "text/plain": [
              "<IPython.core.display.HTML object>"
            ]
          },
          "metadata": {
            "tags": []
          }
        }
      ]
    },
    {
      "cell_type": "code",
      "metadata": {
        "id": "gEBG4s67vmld",
        "colab_type": "code",
        "colab": {
          "base_uri": "https://localhost:8080/",
          "height": 319
        },
        "outputId": "05588ab7-e07d-4807-e3e8-443150d6c73f"
      },
      "source": [
        "%cd /content/\n",
        "!pip install keras -U"
      ],
      "execution_count": 3,
      "outputs": [
        {
          "output_type": "stream",
          "text": [
            "/content\n",
            "Collecting keras\n",
            "\u001b[?25l  Downloading https://files.pythonhosted.org/packages/ad/fd/6bfe87920d7f4fd475acd28500a42482b6b84479832bdc0fe9e589a60ceb/Keras-2.3.1-py2.py3-none-any.whl (377kB)\n",
            "\u001b[K     |████████████████████████████████| 378kB 5.0MB/s \n",
            "\u001b[?25hRequirement already satisfied, skipping upgrade: keras-preprocessing>=1.0.5 in /usr/local/lib/python3.6/dist-packages (from keras) (1.1.0)\n",
            "Requirement already satisfied, skipping upgrade: keras-applications>=1.0.6 in /usr/local/lib/python3.6/dist-packages (from keras) (1.0.8)\n",
            "Requirement already satisfied, skipping upgrade: pyyaml in /usr/local/lib/python3.6/dist-packages (from keras) (3.13)\n",
            "Requirement already satisfied, skipping upgrade: scipy>=0.14 in /usr/local/lib/python3.6/dist-packages (from keras) (1.4.1)\n",
            "Requirement already satisfied, skipping upgrade: h5py in /usr/local/lib/python3.6/dist-packages (from keras) (2.8.0)\n",
            "Requirement already satisfied, skipping upgrade: numpy>=1.9.1 in /usr/local/lib/python3.6/dist-packages (from keras) (1.18.2)\n",
            "Requirement already satisfied, skipping upgrade: six>=1.9.0 in /usr/local/lib/python3.6/dist-packages (from keras) (1.12.0)\n",
            "Installing collected packages: keras\n",
            "  Found existing installation: Keras 2.2.5\n",
            "    Uninstalling Keras-2.2.5:\n",
            "      Successfully uninstalled Keras-2.2.5\n",
            "Successfully installed keras-2.3.1\n"
          ],
          "name": "stdout"
        }
      ]
    },
    {
      "cell_type": "code",
      "metadata": {
        "id": "6IFviXP1rgkW",
        "colab_type": "code",
        "colab": {}
      },
      "source": [
        "# Helper For getting the model Size\n",
        "import os\n",
        "from tensorflow.python import ops\n",
        "def get_size(model_dir, model_file='saved_model.pb'):\n",
        "  model_file_path = os.path.join(model_dir, model_file)\n",
        "  print(model_file_path, '')\n",
        "  pb_size = os.path.getsize(model_file_path)\n",
        "  variables_size = 0\n",
        "  if os.path.exists(\n",
        "      os.path.join(model_dir,'variables/variables.data-00000-of-00001')):\n",
        "    variables_size = os.path.getsize(os.path.join(\n",
        "        model_dir,'variables/variables.data-00000-of-00001'))\n",
        "    variables_size += os.path.getsize(os.path.join(\n",
        "        model_dir,'variables/variables.index'))\n",
        "  print('Model size: {} KB'.format(round(pb_size/(1024.0),3)))\n",
        "  print('Variables size: {} KB'.format(round( variables_size/(1024.0),3)))\n",
        "  print('Total Size: {} KB'.format(round((pb_size + variables_size)/(1024.0),3)))"
      ],
      "execution_count": 0,
      "outputs": []
    },
    {
      "cell_type": "code",
      "metadata": {
        "id": "FbD-5L4UrjzI",
        "colab_type": "code",
        "colab": {}
      },
      "source": [
        "# To Freeze the Saved Model\n",
        "# We need to freeze the model to do further optimisation on it\n",
        "\n",
        "from tensorflow.python.saved_model import tag_constants\n",
        "from tensorflow.python.tools import freeze_graph\n",
        "from tensorflow.python import ops\n",
        "from tensorflow.tools.graph_transforms import TransformGraph\n",
        "\n",
        "def freeze_model(saved_model_dir, output_node_names, output_filename):\n",
        "  output_graph_filename = os.path.join(saved_model_dir, output_filename)\n",
        "  initializer_nodes = ''\n",
        "  freeze_graph.freeze_graph(\n",
        "      input_saved_model_dir=saved_model_dir,\n",
        "      output_graph=output_graph_filename,\n",
        "      saved_model_tags = tag_constants.SERVING,\n",
        "      output_node_names=output_node_names,\n",
        "      initializer_nodes=initializer_nodes,\n",
        "      input_graph=None,\n",
        "      input_saver=False,\n",
        "      input_binary=False,\n",
        "      input_checkpoint=None,\n",
        "      restore_op_name=None,\n",
        "      filename_tensor_name=None,\n",
        "      clear_devices=True,\n",
        "      input_meta_graph=False,\n",
        "  )"
      ],
      "execution_count": 0,
      "outputs": []
    },
    {
      "cell_type": "code",
      "metadata": {
        "id": "DgU6qU20rpVp",
        "colab_type": "code",
        "colab": {}
      },
      "source": [
        "# Source https://medium.com/google-cloud/optimizing-tensorflow-models-for-serving-959080e9ddbf\n",
        "# Convert the frozen graph to TF model\n",
        "\n",
        "# Note -You need to change the outputs for your model\n",
        "# Helper for Converting Frozen graph from Disk to TF serving compatible Model\n",
        "def get_graph_def_from_file(graph_filepath):\n",
        "  tf.reset_default_graph()\n",
        "  with ops.Graph().as_default():\n",
        "    with tf.gfile.GFile(graph_filepath, 'rb') as f:\n",
        "      graph_def = tf.GraphDef()\n",
        "      graph_def.ParseFromString(f.read())\n",
        "      return graph_def\n",
        "\n",
        "def convert_graph_def_to_saved_model(export_dir, graph_filepath):\n",
        "\n",
        "  graph_def = get_graph_def_from_file(graph_filepath)\n",
        "  with tf.Session(graph=tf.Graph()) as session:\n",
        "    tf.import_graph_def(graph_def, name='')\n",
        "    tf.saved_model.simple_save(\n",
        "        session,\n",
        "        export_dir,\n",
        "        inputs={'input_image': session.graph.get_tensor_by_name('{}:0'.format(node.name))\n",
        "            for node in graph_def.node if node.op=='Placeholder'},\n",
        "        outputs={t:session.graph.get_tensor_by_name(t) for t in outputs}\n",
        "                        \n",
        "                \n",
        "    )\n",
        "    print('Optimized graph converted to SavedModel!')"
      ],
      "execution_count": 0,
      "outputs": []
    },
    {
      "cell_type": "code",
      "metadata": {
        "id": "ekCcUEAwrw-c",
        "colab_type": "code",
        "colab": {}
      },
      "source": [
        "# Optimizing the graph via TensorFlow library\n",
        "from tensorflow.tools.graph_transforms import TransformGraph\n",
        "\n",
        "\n",
        "def optimize_graph(model_dir, graph_filename, transforms, output_names, outname='optimized_model.pb'):\n",
        "  input_names = ['input_image',] # change this as per how you have saved the model\n",
        "  graph_def = get_graph_def_from_file(os.path.join(model_dir, graph_filename))\n",
        "  optimized_graph_def = TransformGraph(\n",
        "      graph_def,\n",
        "      input_names,  \n",
        "      output_names,\n",
        "      transforms)\n",
        "  tf.train.write_graph(optimized_graph_def,\n",
        "                      logdir=model_dir,\n",
        "                      as_text=False,\n",
        "                      name=outname)\n",
        "  print('Graph optimized!')"
      ],
      "execution_count": 0,
      "outputs": []
    },
    {
      "cell_type": "code",
      "metadata": {
        "id": "-Hkq7MU0r1cF",
        "colab_type": "code",
        "colab": {
          "base_uri": "https://localhost:8080/",
          "height": 263
        },
        "outputId": "68ae60db-393d-4fcd-dc74-9c4d5d107895"
      },
      "source": [
        "#Install keras-retinanet\n",
        "#Do this  only once\n",
        "!git clone --recursive https://github.com/fizyr/keras-retinanet.git"
      ],
      "execution_count": 9,
      "outputs": [
        {
          "output_type": "stream",
          "text": [
            "Cloning into 'keras-retinanet'...\n",
            "remote: Enumerating objects: 39, done.\u001b[K\n",
            "remote: Counting objects: 100% (39/39), done.\u001b[K\n",
            "remote: Compressing objects: 100% (30/30), done.\u001b[K\n",
            "remote: Total 5596 (delta 19), reused 21 (delta 9), pack-reused 5557\u001b[K\n",
            "Receiving objects: 100% (5596/5596), 14.76 MiB | 26.65 MiB/s, done.\n",
            "Resolving deltas: 100% (3737/3737), done.\n",
            "Submodule 'tests/test-data' (https://github.com/fizyr/keras-retinanet-test-data.git) registered for path 'tests/test-data'\n",
            "Cloning into '/content/keras-retinanet/tests/test-data'...\n",
            "remote: Enumerating objects: 9, done.        \n",
            "remote: Counting objects: 100% (9/9), done.        \n",
            "remote: Compressing objects: 100% (6/6), done.        \n",
            "remote: Total 45 (delta 1), reused 6 (delta 1), pack-reused 36        \n",
            "Submodule path 'tests/test-data': checked out '98404379fbf1ff1273d01db835c10cc83a4f8007'\n"
          ],
          "name": "stdout"
        }
      ]
    },
    {
      "cell_type": "code",
      "metadata": {
        "id": "8Xou3R7yr7Vk",
        "colab_type": "code",
        "colab": {
          "base_uri": "https://localhost:8080/",
          "height": 35
        },
        "outputId": "7d955111-d16b-4163-efe6-fe457939b942"
      },
      "source": [
        "!cd keras-retinanet && git pull"
      ],
      "execution_count": 10,
      "outputs": [
        {
          "output_type": "stream",
          "text": [
            "Already up to date.\n"
          ],
          "name": "stdout"
        }
      ]
    },
    {
      "cell_type": "code",
      "metadata": {
        "id": "t7CBDiJFr_w2",
        "colab_type": "code",
        "colab": {
          "base_uri": "https://localhost:8080/",
          "height": 477
        },
        "outputId": "67fdc0bc-cb47-4bd0-f79f-8a62b17b8a5d"
      },
      "source": [
        "#Do this only once\n",
        "%cd keras-retinanet/\n",
        "!pip install . -q\n",
        "!python setup.py build_ext --inplace"
      ],
      "execution_count": 11,
      "outputs": [
        {
          "output_type": "stream",
          "text": [
            "/content/keras-retinanet\n",
            "  Building wheel for keras-retinanet (setup.py) ... \u001b[?25l\u001b[?25hdone\n",
            "  Building wheel for keras-resnet (setup.py) ... \u001b[?25l\u001b[?25hdone\n",
            "running build_ext\n",
            "cythoning keras_retinanet/utils/compute_overlap.pyx to keras_retinanet/utils/compute_overlap.c\n",
            "/usr/local/lib/python3.6/dist-packages/Cython/Compiler/Main.py:369: FutureWarning: Cython directive 'language_level' not set, using 2 for now (Py2). This will change in a later release! File: /content/keras-retinanet/keras_retinanet/utils/compute_overlap.pyx\n",
            "  tree = Parsing.p_module(s, pxd, full_module_name)\n",
            "building 'keras_retinanet.utils.compute_overlap' extension\n",
            "creating build\n",
            "creating build/temp.linux-x86_64-3.6\n",
            "creating build/temp.linux-x86_64-3.6/keras_retinanet\n",
            "creating build/temp.linux-x86_64-3.6/keras_retinanet/utils\n",
            "x86_64-linux-gnu-gcc -pthread -DNDEBUG -g -fwrapv -O2 -Wall -g -fstack-protector-strong -Wformat -Werror=format-security -Wdate-time -D_FORTIFY_SOURCE=2 -fPIC -I/usr/include/python3.6m -I/usr/local/lib/python3.6/dist-packages/numpy/core/include -c keras_retinanet/utils/compute_overlap.c -o build/temp.linux-x86_64-3.6/keras_retinanet/utils/compute_overlap.o\n",
            "In file included from \u001b[01m\u001b[K/usr/local/lib/python3.6/dist-packages/numpy/core/include/numpy/ndarraytypes.h:1832:0\u001b[m\u001b[K,\n",
            "                 from \u001b[01m\u001b[K/usr/local/lib/python3.6/dist-packages/numpy/core/include/numpy/ndarrayobject.h:12\u001b[m\u001b[K,\n",
            "                 from \u001b[01m\u001b[K/usr/local/lib/python3.6/dist-packages/numpy/core/include/numpy/arrayobject.h:4\u001b[m\u001b[K,\n",
            "                 from \u001b[01m\u001b[Kkeras_retinanet/utils/compute_overlap.c:598\u001b[m\u001b[K:\n",
            "\u001b[01m\u001b[K/usr/local/lib/python3.6/dist-packages/numpy/core/include/numpy/npy_1_7_deprecated_api.h:17:2:\u001b[m\u001b[K \u001b[01;35m\u001b[Kwarning: \u001b[m\u001b[K#warning \"Using deprecated NumPy API, disable it with \" \"#define NPY_NO_DEPRECATED_API NPY_1_7_API_VERSION\" [\u001b[01;35m\u001b[K-Wcpp\u001b[m\u001b[K]\n",
            " #\u001b[01;35m\u001b[Kwarning\u001b[m\u001b[K \"Using deprecated NumPy API, disable it with \" \\\n",
            "  \u001b[01;35m\u001b[K^~~~~~~\u001b[m\u001b[K\n",
            "creating build/lib.linux-x86_64-3.6\n",
            "creating build/lib.linux-x86_64-3.6/keras_retinanet\n",
            "creating build/lib.linux-x86_64-3.6/keras_retinanet/utils\n",
            "x86_64-linux-gnu-gcc -pthread -shared -Wl,-O1 -Wl,-Bsymbolic-functions -Wl,-Bsymbolic-functions -Wl,-z,relro -Wl,-Bsymbolic-functions -Wl,-z,relro -g -fstack-protector-strong -Wformat -Werror=format-security -Wdate-time -D_FORTIFY_SOURCE=2 build/temp.linux-x86_64-3.6/keras_retinanet/utils/compute_overlap.o -o build/lib.linux-x86_64-3.6/keras_retinanet/utils/compute_overlap.cpython-36m-x86_64-linux-gnu.so\n",
            "copying build/lib.linux-x86_64-3.6/keras_retinanet/utils/compute_overlap.cpython-36m-x86_64-linux-gnu.so -> keras_retinanet/utils\n"
          ],
          "name": "stdout"
        }
      ]
    },
    {
      "cell_type": "code",
      "metadata": {
        "id": "qINLxvIPsaiW",
        "colab_type": "code",
        "colab": {}
      },
      "source": [
        "# adjust this to point to your downloaded/trained model\n",
        "# models can be downloaded here: https://github.com/fizyr/keras-retinanet/releases\n",
        "model_path = '/content/drive/My Drive/detection_models/resnet50_csv_11.h5'"
      ],
      "execution_count": 0,
      "outputs": []
    },
    {
      "cell_type": "code",
      "metadata": {
        "id": "0H8Ey8Q7sgmy",
        "colab_type": "code",
        "colab": {
          "base_uri": "https://localhost:8080/",
          "height": 319
        },
        "outputId": "7502ac33-9901-40f7-f984-98faae3a4c6c"
      },
      "source": [
        "# load retinanet model\n",
        "from keras_retinanet import models\n",
        "model = models.load_model(model_path, backbone_name='resnet50')\n",
        "\n",
        "# if the model is not converted to an inference model, use the line below\n",
        "# see: https://github.com/fizyr/keras-retinanet#converting-a-training-model-to-inference-model\n",
        "model = models.convert_model(model)\n",
        "\n",
        "#print(model.summary())\n",
        "\n",
        "# load label to names mapping for visualization purposes\n",
        "labels_to_names = {0: 'traffic-light'}"
      ],
      "execution_count": 13,
      "outputs": [
        {
          "output_type": "stream",
          "text": [
            "Using TensorFlow backend.\n"
          ],
          "name": "stderr"
        },
        {
          "output_type": "stream",
          "text": [
            "WARNING:tensorflow:From /tensorflow-1.15.0/python3.6/tensorflow_core/python/ops/resource_variable_ops.py:1630: calling BaseResourceVariable.__init__ (from tensorflow.python.ops.resource_variable_ops) with constraint is deprecated and will be removed in a future version.\n",
            "Instructions for updating:\n",
            "If using Keras pass *_constraint arguments to layers.\n",
            "WARNING:tensorflow:From /usr/local/lib/python3.6/dist-packages/keras/backend/tensorflow_backend.py:4070: The name tf.nn.max_pool is deprecated. Please use tf.nn.max_pool2d instead.\n",
            "\n",
            "WARNING:tensorflow:From /content/keras-retinanet/keras_retinanet/backend/tensorflow_backend.py:104: where (from tensorflow.python.ops.array_ops) is deprecated and will be removed in a future version.\n",
            "Instructions for updating:\n",
            "Use tf.where in 2.0, which has the same broadcast rule as np.where\n",
            "WARNING:tensorflow:From /usr/local/lib/python3.6/dist-packages/keras/backend/tensorflow_backend.py:422: The name tf.global_variables is deprecated. Please use tf.compat.v1.global_variables instead.\n",
            "\n",
            "tracking <tf.Variable 'Variable:0' shape=(9, 4) dtype=float32> anchors\n",
            "tracking <tf.Variable 'Variable_1:0' shape=(9, 4) dtype=float32> anchors\n",
            "tracking <tf.Variable 'Variable_2:0' shape=(9, 4) dtype=float32> anchors\n",
            "tracking <tf.Variable 'Variable_3:0' shape=(9, 4) dtype=float32> anchors\n",
            "tracking <tf.Variable 'Variable_4:0' shape=(9, 4) dtype=float32> anchors\n"
          ],
          "name": "stdout"
        }
      ]
    },
    {
      "cell_type": "markdown",
      "metadata": {
        "id": "ip_yCvIjstcz",
        "colab_type": "text"
      },
      "source": [
        "Saving the Keras Model in TF Serving compatible format\n"
      ]
    },
    {
      "cell_type": "code",
      "metadata": {
        "id": "QGHb2UMGslq2",
        "colab_type": "code",
        "colab": {
          "base_uri": "https://localhost:8080/",
          "height": 213
        },
        "outputId": "425b4f69-fe3f-4a44-b5a7-fcbc6424a641"
      },
      "source": [
        "import shutil \n",
        "import os\n",
        "import keras\n",
        "import tensorflow as tf\n",
        "from keras.models import load_model\n",
        "\n",
        "\n",
        "#session = tf.keras.backend.get_session()\n",
        "session =keras.backend.tensorflow_backend.get_session()\n",
        "\n",
        "tf.keras.backend.set_learning_phase(0) # Ignore dropout at inference\n",
        "\n",
        "print(\"Model file path\",model_path)\n",
        "weightfile = model_path\n",
        "export_path = os.path.join('keras-retinanet')\n",
        "\n",
        "\n",
        "if os.path.exists( export_path+\"/4\"):\n",
        "    shutil.rmtree( export_path+\"/4\")\n",
        "    \n",
        "export_path = export_path+\"/4\"\n",
        "\n",
        "#with tf.keras.backend.get_session() as sess: --> this wont work\n",
        "with session as sess:\n",
        "    tf.saved_model.simple_save(\n",
        "                session,\n",
        "                export_path,\n",
        "                inputs={'input_image': model.input},\n",
        "                outputs={t.name:t for t in model.outputs})"
      ],
      "execution_count": 14,
      "outputs": [
        {
          "output_type": "stream",
          "text": [
            "Model file path /content/drive/My Drive/detection_models/resnet50_csv_11.h5\n",
            "WARNING:tensorflow:From <ipython-input-14-4d490b0356f5>:29: simple_save (from tensorflow.python.saved_model.simple_save) is deprecated and will be removed in a future version.\n",
            "Instructions for updating:\n",
            "This function will only be available through the v1 compatibility library as tf.compat.v1.saved_model.simple_save.\n",
            "WARNING:tensorflow:From /tensorflow-1.15.0/python3.6/tensorflow_core/python/saved_model/signature_def_utils_impl.py:201: build_tensor_info (from tensorflow.python.saved_model.utils_impl) is deprecated and will be removed in a future version.\n",
            "Instructions for updating:\n",
            "This function will only be available through the v1 compatibility library as tf.compat.v1.saved_model.utils.build_tensor_info or tf.compat.v1.saved_model.build_tensor_info.\n",
            "INFO:tensorflow:Assets added to graph.\n",
            "INFO:tensorflow:No assets to write.\n",
            "INFO:tensorflow:SavedModel written to: keras-retinanet/4/saved_model.pb\n"
          ],
          "name": "stdout"
        }
      ]
    },
    {
      "cell_type": "code",
      "metadata": {
        "id": "6KVk5tMCsz47",
        "colab_type": "code",
        "colab": {
          "base_uri": "https://localhost:8080/",
          "height": 422
        },
        "outputId": "43fbf91e-ff82-4a43-8f99-ef62ba88fded"
      },
      "source": [
        "!saved_model_cli show --dir '/content/keras-retinanet/keras-retinanet/4/' --all"
      ],
      "execution_count": 15,
      "outputs": [
        {
          "output_type": "stream",
          "text": [
            "\n",
            "MetaGraphDef with tag-set: 'serve' contains the following SignatureDefs:\n",
            "\n",
            "signature_def['serving_default']:\n",
            "  The given SavedModel SignatureDef contains the following input(s):\n",
            "    inputs['input_image'] tensor_info:\n",
            "        dtype: DT_FLOAT\n",
            "        shape: (-1, -1, -1, 3)\n",
            "        name: input_1:0\n",
            "  The given SavedModel SignatureDef contains the following output(s):\n",
            "    outputs['filtered_detections/map/TensorArrayStack/TensorArrayGatherV3:0'] tensor_info:\n",
            "        dtype: DT_FLOAT\n",
            "        shape: (-1, 300, 4)\n",
            "        name: filtered_detections/map/TensorArrayStack/TensorArrayGatherV3:0\n",
            "    outputs['filtered_detections/map/TensorArrayStack_1/TensorArrayGatherV3:0'] tensor_info:\n",
            "        dtype: DT_FLOAT\n",
            "        shape: (-1, 300)\n",
            "        name: filtered_detections/map/TensorArrayStack_1/TensorArrayGatherV3:0\n",
            "    outputs['filtered_detections/map/TensorArrayStack_2/TensorArrayGatherV3:0'] tensor_info:\n",
            "        dtype: DT_INT32\n",
            "        shape: (-1, 300)\n",
            "        name: filtered_detections/map/TensorArrayStack_2/TensorArrayGatherV3:0\n",
            "  Method name is: tensorflow/serving/predict\n"
          ],
          "name": "stdout"
        }
      ]
    },
    {
      "cell_type": "markdown",
      "metadata": {
        "id": "x1zG8RKQs7SA",
        "colab_type": "text"
      },
      "source": [
        "Convert the Saved model for Freezing (for Optimizations)"
      ]
    },
    {
      "cell_type": "code",
      "metadata": {
        "id": "3bGs9nOrs24E",
        "colab_type": "code",
        "colab": {
          "base_uri": "https://localhost:8080/",
          "height": 87
        },
        "outputId": "5d3ed981-6ca3-4c24-9f52-19ad66bc8dcf"
      },
      "source": [
        "# Try to load the saved model\n",
        "%mkdir /content/keras-retinanet/keras-retinanet/5\n",
        "tf.keras.backend.clear_session()\n",
        "session = tf.Session()\n",
        "import_path = os.path.join('keras-retinanet/4')\n",
        "        \n",
        "meta =tf.saved_model.loader.load(\n",
        "            session,\n",
        "            [tf.saved_model.tag_constants.SERVING],\n",
        "        import_path )\n",
        "\n",
        "output_node_names = u'filtered_detections/map/TensorArrayStack/TensorArrayGatherV3,\\\n",
        "filtered_detections/map/TensorArrayStack_1/TensorArrayGatherV3,     \\\n",
        "filtered_detections/map/TensorArrayStack_2/TensorArrayGatherV3'\n",
        "\n",
        "freeze_model('keras-retinanet/4/', output_node_names, '../5/freezed_model.pb')"
      ],
      "execution_count": 17,
      "outputs": [
        {
          "output_type": "stream",
          "text": [
            "INFO:tensorflow:Restoring parameters from keras-retinanet/4/variables/variables\n",
            "INFO:tensorflow:Restoring parameters from keras-retinanet/4/variables/variables\n",
            "INFO:tensorflow:Froze 306 variables.\n",
            "INFO:tensorflow:Converted 306 variables to const ops.\n"
          ],
          "name": "stdout"
        }
      ]
    },
    {
      "cell_type": "code",
      "metadata": {
        "id": "BCIEW1H5tEll",
        "colab_type": "code",
        "colab": {
          "base_uri": "https://localhost:8080/",
          "height": 228
        },
        "outputId": "e02f0401-5968-4d3d-dc5d-d60d30666cd2"
      },
      "source": [
        "get_size('keras-retinanet/4/',model_file='saved_model.pb')\n",
        "#print \"------------------------------------\"\n",
        "get_size('keras-retinanet/5/',model_file='freezed_model.pb')\n",
        "#print \"-------------------------------------\"\n",
        "#print \"saved frozen model\"\n",
        "get_size('keras-retinanet/4/',model_file='saved_model.pb')"
      ],
      "execution_count": 19,
      "outputs": [
        {
          "output_type": "stream",
          "text": [
            "keras-retinanet/4/saved_model.pb \n",
            "Model size: 1670.117 KB\n",
            "Variables size: 243036.61 KB\n",
            "Total Size: 244706.728 KB\n",
            "keras-retinanet/5/freezed_model.pb \n",
            "Model size: 142680.328 KB\n",
            "Variables size: 0.0 KB\n",
            "Total Size: 142680.328 KB\n",
            "keras-retinanet/4/saved_model.pb \n",
            "Model size: 1670.117 KB\n",
            "Variables size: 243036.61 KB\n",
            "Total Size: 244706.728 KB\n"
          ],
          "name": "stdout"
        }
      ]
    },
    {
      "cell_type": "markdown",
      "metadata": {
        "id": "nuZA5R_6Pt_T",
        "colab_type": "text"
      },
      "source": [
        "``Convert Frozen model to TF Serving"
      ]
    },
    {
      "cell_type": "code",
      "metadata": {
        "id": "X70wlyCOPvNM",
        "colab_type": "code",
        "colab": {}
      },
      "source": [
        "# You need to change the outputs for your model\n",
        "outputs = ['filtered_detections/map/TensorArrayStack/TensorArrayGatherV3:0',\\\n",
        "'filtered_detections/map/TensorArrayStack_1/TensorArrayGatherV3:0',     \\\n",
        "'filtered_detections/map/TensorArrayStack_2/TensorArrayGatherV3:0']"
      ],
      "execution_count": 0,
      "outputs": []
    },
    {
      "cell_type": "markdown",
      "metadata": {
        "id": "9jO1n847P0Np",
        "colab_type": "text"
      },
      "source": [
        "Load a frozen model"
      ]
    },
    {
      "cell_type": "code",
      "metadata": {
        "id": "TjdellVIQJrB",
        "colab_type": "code",
        "colab": {
          "base_uri": "https://localhost:8080/",
          "height": 87
        },
        "outputId": "2933567d-64b8-492f-e7f6-48747deb79dc"
      },
      "source": [
        "#Lets load a frozen model\n",
        "gdef =get_graph_def_from_file('keras-retinanet/5/freezed_model.pb')\n",
        "convert_graph_def_to_saved_model('keras-retinanet/xx/', 'keras-retinanet/5/freezed_model.pb')"
      ],
      "execution_count": 21,
      "outputs": [
        {
          "output_type": "stream",
          "text": [
            "INFO:tensorflow:Assets added to graph.\n",
            "INFO:tensorflow:No assets to write.\n",
            "INFO:tensorflow:SavedModel written to: keras-retinanet/xx/saved_model.pb\n",
            "Optimized graph converted to SavedModel!\n"
          ],
          "name": "stdout"
        }
      ]
    },
    {
      "cell_type": "code",
      "metadata": {
        "id": "V6D_Kp_zQfVA",
        "colab_type": "code",
        "colab": {
          "base_uri": "https://localhost:8080/",
          "height": 55
        },
        "outputId": "c76942fc-bc2c-4705-fc96-571cd7ddab64"
      },
      "source": [
        "# Helper Run this to get the node names in the graph\n",
        "# useful to get the node names to be used in framing the output \n",
        "node_names = [node.name for node in gdef.node]\n",
        "print(node_names)"
      ],
      "execution_count": 22,
      "outputs": [
        {
          "output_type": "stream",
          "text": [
            "['input_1', 'pyramid_regression_0/kernel', 'pyramid_regression_0/bias', 'pyramid_regression_1/kernel', 'pyramid_regression_1/bias', 'pyramid_regression_2/kernel', 'pyramid_regression_2/bias', 'pyramid_regression_3/kernel', 'pyramid_regression_3/bias', 'pyramid_regression/kernel', 'pyramid_regression/bias', 'pyramid_classification_0/kernel', 'pyramid_classification_0/bias', 'pyramid_classification_1/kernel', 'pyramid_classification_1/bias', 'pyramid_classification_2/kernel', 'pyramid_classification_2/bias', 'pyramid_classification_3/kernel', 'pyramid_classification_3/bias', 'pyramid_classification/kernel', 'pyramid_classification/bias', 'padding_conv1/Pad/paddings', 'padding_conv1/Pad', 'conv1/kernel', 'conv1/convolution/ReadVariableOp', 'conv1/convolution', 'bn_conv1/gamma', 'bn_conv1/beta', 'bn_conv1/moving_mean', 'bn_conv1/moving_variance', 'bn_conv1/ReadVariableOp', 'bn_conv1/ReadVariableOp_1', 'bn_conv1/FusedBatchNormV3/ReadVariableOp', 'bn_conv1/FusedBatchNormV3/ReadVariableOp_1', 'bn_conv1/FusedBatchNormV3', 'conv1_relu/Relu', 'pool1/MaxPool', 'res2a_branch2a/kernel', 'res2a_branch2a/convolution/ReadVariableOp', 'res2a_branch2a/convolution', 'bn2a_branch2a/gamma', 'bn2a_branch2a/beta', 'bn2a_branch2a/moving_mean', 'bn2a_branch2a/moving_variance', 'bn2a_branch2a/ReadVariableOp', 'bn2a_branch2a/ReadVariableOp_1', 'bn2a_branch2a/FusedBatchNormV3/ReadVariableOp', 'bn2a_branch2a/FusedBatchNormV3/ReadVariableOp_1', 'bn2a_branch2a/FusedBatchNormV3', 'res2a_branch2a_relu/Relu', 'padding2a_branch2b/Pad/paddings', 'padding2a_branch2b/Pad', 'res2a_branch2b/kernel', 'res2a_branch2b/convolution/ReadVariableOp', 'res2a_branch2b/convolution', 'bn2a_branch2b/gamma', 'bn2a_branch2b/beta', 'bn2a_branch2b/moving_mean', 'bn2a_branch2b/moving_variance', 'bn2a_branch2b/ReadVariableOp', 'bn2a_branch2b/ReadVariableOp_1', 'bn2a_branch2b/FusedBatchNormV3/ReadVariableOp', 'bn2a_branch2b/FusedBatchNormV3/ReadVariableOp_1', 'bn2a_branch2b/FusedBatchNormV3', 'res2a_branch2b_relu/Relu', 'res2a_branch2c/kernel', 'res2a_branch2c/convolution/ReadVariableOp', 'res2a_branch2c/convolution', 'res2a_branch1/kernel', 'res2a_branch1/convolution/ReadVariableOp', 'res2a_branch1/convolution', 'bn2a_branch2c/gamma', 'bn2a_branch2c/beta', 'bn2a_branch2c/moving_mean', 'bn2a_branch2c/moving_variance', 'bn2a_branch2c/ReadVariableOp', 'bn2a_branch2c/ReadVariableOp_1', 'bn2a_branch2c/FusedBatchNormV3/ReadVariableOp', 'bn2a_branch2c/FusedBatchNormV3/ReadVariableOp_1', 'bn2a_branch2c/FusedBatchNormV3', 'bn2a_branch1/gamma', 'bn2a_branch1/beta', 'bn2a_branch1/moving_mean', 'bn2a_branch1/moving_variance', 'bn2a_branch1/ReadVariableOp', 'bn2a_branch1/ReadVariableOp_1', 'bn2a_branch1/FusedBatchNormV3/ReadVariableOp', 'bn2a_branch1/FusedBatchNormV3/ReadVariableOp_1', 'bn2a_branch1/FusedBatchNormV3', 'res2a/add', 'res2a_relu/Relu', 'res2b_branch2a/kernel', 'res2b_branch2a/convolution/ReadVariableOp', 'res2b_branch2a/convolution', 'bn2b_branch2a/gamma', 'bn2b_branch2a/beta', 'bn2b_branch2a/moving_mean', 'bn2b_branch2a/moving_variance', 'bn2b_branch2a/ReadVariableOp', 'bn2b_branch2a/ReadVariableOp_1', 'bn2b_branch2a/FusedBatchNormV3/ReadVariableOp', 'bn2b_branch2a/FusedBatchNormV3/ReadVariableOp_1', 'bn2b_branch2a/FusedBatchNormV3', 'res2b_branch2a_relu/Relu', 'padding2b_branch2b/Pad/paddings', 'padding2b_branch2b/Pad', 'res2b_branch2b/kernel', 'res2b_branch2b/convolution/ReadVariableOp', 'res2b_branch2b/convolution', 'bn2b_branch2b/gamma', 'bn2b_branch2b/beta', 'bn2b_branch2b/moving_mean', 'bn2b_branch2b/moving_variance', 'bn2b_branch2b/ReadVariableOp', 'bn2b_branch2b/ReadVariableOp_1', 'bn2b_branch2b/FusedBatchNormV3/ReadVariableOp', 'bn2b_branch2b/FusedBatchNormV3/ReadVariableOp_1', 'bn2b_branch2b/FusedBatchNormV3', 'res2b_branch2b_relu/Relu', 'res2b_branch2c/kernel', 'res2b_branch2c/convolution/ReadVariableOp', 'res2b_branch2c/convolution', 'bn2b_branch2c/gamma', 'bn2b_branch2c/beta', 'bn2b_branch2c/moving_mean', 'bn2b_branch2c/moving_variance', 'bn2b_branch2c/ReadVariableOp', 'bn2b_branch2c/ReadVariableOp_1', 'bn2b_branch2c/FusedBatchNormV3/ReadVariableOp', 'bn2b_branch2c/FusedBatchNormV3/ReadVariableOp_1', 'bn2b_branch2c/FusedBatchNormV3', 'res2b/add', 'res2b_relu/Relu', 'res2c_branch2a/kernel', 'res2c_branch2a/convolution/ReadVariableOp', 'res2c_branch2a/convolution', 'bn2c_branch2a/gamma', 'bn2c_branch2a/beta', 'bn2c_branch2a/moving_mean', 'bn2c_branch2a/moving_variance', 'bn2c_branch2a/ReadVariableOp', 'bn2c_branch2a/ReadVariableOp_1', 'bn2c_branch2a/FusedBatchNormV3/ReadVariableOp', 'bn2c_branch2a/FusedBatchNormV3/ReadVariableOp_1', 'bn2c_branch2a/FusedBatchNormV3', 'res2c_branch2a_relu/Relu', 'padding2c_branch2b/Pad/paddings', 'padding2c_branch2b/Pad', 'res2c_branch2b/kernel', 'res2c_branch2b/convolution/ReadVariableOp', 'res2c_branch2b/convolution', 'bn2c_branch2b/gamma', 'bn2c_branch2b/beta', 'bn2c_branch2b/moving_mean', 'bn2c_branch2b/moving_variance', 'bn2c_branch2b/ReadVariableOp', 'bn2c_branch2b/ReadVariableOp_1', 'bn2c_branch2b/FusedBatchNormV3/ReadVariableOp', 'bn2c_branch2b/FusedBatchNormV3/ReadVariableOp_1', 'bn2c_branch2b/FusedBatchNormV3', 'res2c_branch2b_relu/Relu', 'res2c_branch2c/kernel', 'res2c_branch2c/convolution/ReadVariableOp', 'res2c_branch2c/convolution', 'bn2c_branch2c/gamma', 'bn2c_branch2c/beta', 'bn2c_branch2c/moving_mean', 'bn2c_branch2c/moving_variance', 'bn2c_branch2c/ReadVariableOp', 'bn2c_branch2c/ReadVariableOp_1', 'bn2c_branch2c/FusedBatchNormV3/ReadVariableOp', 'bn2c_branch2c/FusedBatchNormV3/ReadVariableOp_1', 'bn2c_branch2c/FusedBatchNormV3', 'res2c/add', 'res2c_relu/Relu', 'res3a_branch2a/kernel', 'res3a_branch2a/convolution/ReadVariableOp', 'res3a_branch2a/convolution', 'bn3a_branch2a/gamma', 'bn3a_branch2a/beta', 'bn3a_branch2a/moving_mean', 'bn3a_branch2a/moving_variance', 'bn3a_branch2a/ReadVariableOp', 'bn3a_branch2a/ReadVariableOp_1', 'bn3a_branch2a/FusedBatchNormV3/ReadVariableOp', 'bn3a_branch2a/FusedBatchNormV3/ReadVariableOp_1', 'bn3a_branch2a/FusedBatchNormV3', 'res3a_branch2a_relu/Relu', 'padding3a_branch2b/Pad/paddings', 'padding3a_branch2b/Pad', 'res3a_branch2b/kernel', 'res3a_branch2b/convolution/ReadVariableOp', 'res3a_branch2b/convolution', 'bn3a_branch2b/gamma', 'bn3a_branch2b/beta', 'bn3a_branch2b/moving_mean', 'bn3a_branch2b/moving_variance', 'bn3a_branch2b/ReadVariableOp', 'bn3a_branch2b/ReadVariableOp_1', 'bn3a_branch2b/FusedBatchNormV3/ReadVariableOp', 'bn3a_branch2b/FusedBatchNormV3/ReadVariableOp_1', 'bn3a_branch2b/FusedBatchNormV3', 'res3a_branch2b_relu/Relu', 'res3a_branch2c/kernel', 'res3a_branch2c/convolution/ReadVariableOp', 'res3a_branch2c/convolution', 'res3a_branch1/kernel', 'res3a_branch1/convolution/ReadVariableOp', 'res3a_branch1/convolution', 'bn3a_branch2c/gamma', 'bn3a_branch2c/beta', 'bn3a_branch2c/moving_mean', 'bn3a_branch2c/moving_variance', 'bn3a_branch2c/ReadVariableOp', 'bn3a_branch2c/ReadVariableOp_1', 'bn3a_branch2c/FusedBatchNormV3/ReadVariableOp', 'bn3a_branch2c/FusedBatchNormV3/ReadVariableOp_1', 'bn3a_branch2c/FusedBatchNormV3', 'bn3a_branch1/gamma', 'bn3a_branch1/beta', 'bn3a_branch1/moving_mean', 'bn3a_branch1/moving_variance', 'bn3a_branch1/ReadVariableOp', 'bn3a_branch1/ReadVariableOp_1', 'bn3a_branch1/FusedBatchNormV3/ReadVariableOp', 'bn3a_branch1/FusedBatchNormV3/ReadVariableOp_1', 'bn3a_branch1/FusedBatchNormV3', 'res3a/add', 'res3a_relu/Relu', 'res3b_branch2a/kernel', 'res3b_branch2a/convolution/ReadVariableOp', 'res3b_branch2a/convolution', 'bn3b_branch2a/gamma', 'bn3b_branch2a/beta', 'bn3b_branch2a/moving_mean', 'bn3b_branch2a/moving_variance', 'bn3b_branch2a/ReadVariableOp', 'bn3b_branch2a/ReadVariableOp_1', 'bn3b_branch2a/FusedBatchNormV3/ReadVariableOp', 'bn3b_branch2a/FusedBatchNormV3/ReadVariableOp_1', 'bn3b_branch2a/FusedBatchNormV3', 'res3b_branch2a_relu/Relu', 'padding3b_branch2b/Pad/paddings', 'padding3b_branch2b/Pad', 'res3b_branch2b/kernel', 'res3b_branch2b/convolution/ReadVariableOp', 'res3b_branch2b/convolution', 'bn3b_branch2b/gamma', 'bn3b_branch2b/beta', 'bn3b_branch2b/moving_mean', 'bn3b_branch2b/moving_variance', 'bn3b_branch2b/ReadVariableOp', 'bn3b_branch2b/ReadVariableOp_1', 'bn3b_branch2b/FusedBatchNormV3/ReadVariableOp', 'bn3b_branch2b/FusedBatchNormV3/ReadVariableOp_1', 'bn3b_branch2b/FusedBatchNormV3', 'res3b_branch2b_relu/Relu', 'res3b_branch2c/kernel', 'res3b_branch2c/convolution/ReadVariableOp', 'res3b_branch2c/convolution', 'bn3b_branch2c/gamma', 'bn3b_branch2c/beta', 'bn3b_branch2c/moving_mean', 'bn3b_branch2c/moving_variance', 'bn3b_branch2c/ReadVariableOp', 'bn3b_branch2c/ReadVariableOp_1', 'bn3b_branch2c/FusedBatchNormV3/ReadVariableOp', 'bn3b_branch2c/FusedBatchNormV3/ReadVariableOp_1', 'bn3b_branch2c/FusedBatchNormV3', 'res3b/add', 'res3b_relu/Relu', 'res3c_branch2a/kernel', 'res3c_branch2a/convolution/ReadVariableOp', 'res3c_branch2a/convolution', 'bn3c_branch2a/gamma', 'bn3c_branch2a/beta', 'bn3c_branch2a/moving_mean', 'bn3c_branch2a/moving_variance', 'bn3c_branch2a/ReadVariableOp', 'bn3c_branch2a/ReadVariableOp_1', 'bn3c_branch2a/FusedBatchNormV3/ReadVariableOp', 'bn3c_branch2a/FusedBatchNormV3/ReadVariableOp_1', 'bn3c_branch2a/FusedBatchNormV3', 'res3c_branch2a_relu/Relu', 'padding3c_branch2b/Pad/paddings', 'padding3c_branch2b/Pad', 'res3c_branch2b/kernel', 'res3c_branch2b/convolution/ReadVariableOp', 'res3c_branch2b/convolution', 'bn3c_branch2b/gamma', 'bn3c_branch2b/beta', 'bn3c_branch2b/moving_mean', 'bn3c_branch2b/moving_variance', 'bn3c_branch2b/ReadVariableOp', 'bn3c_branch2b/ReadVariableOp_1', 'bn3c_branch2b/FusedBatchNormV3/ReadVariableOp', 'bn3c_branch2b/FusedBatchNormV3/ReadVariableOp_1', 'bn3c_branch2b/FusedBatchNormV3', 'res3c_branch2b_relu/Relu', 'res3c_branch2c/kernel', 'res3c_branch2c/convolution/ReadVariableOp', 'res3c_branch2c/convolution', 'bn3c_branch2c/gamma', 'bn3c_branch2c/beta', 'bn3c_branch2c/moving_mean', 'bn3c_branch2c/moving_variance', 'bn3c_branch2c/ReadVariableOp', 'bn3c_branch2c/ReadVariableOp_1', 'bn3c_branch2c/FusedBatchNormV3/ReadVariableOp', 'bn3c_branch2c/FusedBatchNormV3/ReadVariableOp_1', 'bn3c_branch2c/FusedBatchNormV3', 'res3c/add', 'res3c_relu/Relu', 'res3d_branch2a/kernel', 'res3d_branch2a/convolution/ReadVariableOp', 'res3d_branch2a/convolution', 'bn3d_branch2a/gamma', 'bn3d_branch2a/beta', 'bn3d_branch2a/moving_mean', 'bn3d_branch2a/moving_variance', 'bn3d_branch2a/ReadVariableOp', 'bn3d_branch2a/ReadVariableOp_1', 'bn3d_branch2a/FusedBatchNormV3/ReadVariableOp', 'bn3d_branch2a/FusedBatchNormV3/ReadVariableOp_1', 'bn3d_branch2a/FusedBatchNormV3', 'res3d_branch2a_relu/Relu', 'padding3d_branch2b/Pad/paddings', 'padding3d_branch2b/Pad', 'res3d_branch2b/kernel', 'res3d_branch2b/convolution/ReadVariableOp', 'res3d_branch2b/convolution', 'bn3d_branch2b/gamma', 'bn3d_branch2b/beta', 'bn3d_branch2b/moving_mean', 'bn3d_branch2b/moving_variance', 'bn3d_branch2b/ReadVariableOp', 'bn3d_branch2b/ReadVariableOp_1', 'bn3d_branch2b/FusedBatchNormV3/ReadVariableOp', 'bn3d_branch2b/FusedBatchNormV3/ReadVariableOp_1', 'bn3d_branch2b/FusedBatchNormV3', 'res3d_branch2b_relu/Relu', 'res3d_branch2c/kernel', 'res3d_branch2c/convolution/ReadVariableOp', 'res3d_branch2c/convolution', 'bn3d_branch2c/gamma', 'bn3d_branch2c/beta', 'bn3d_branch2c/moving_mean', 'bn3d_branch2c/moving_variance', 'bn3d_branch2c/ReadVariableOp', 'bn3d_branch2c/ReadVariableOp_1', 'bn3d_branch2c/FusedBatchNormV3/ReadVariableOp', 'bn3d_branch2c/FusedBatchNormV3/ReadVariableOp_1', 'bn3d_branch2c/FusedBatchNormV3', 'res3d/add', 'res3d_relu/Relu', 'res4a_branch2a/kernel', 'res4a_branch2a/convolution/ReadVariableOp', 'res4a_branch2a/convolution', 'bn4a_branch2a/gamma', 'bn4a_branch2a/beta', 'bn4a_branch2a/moving_mean', 'bn4a_branch2a/moving_variance', 'bn4a_branch2a/ReadVariableOp', 'bn4a_branch2a/ReadVariableOp_1', 'bn4a_branch2a/FusedBatchNormV3/ReadVariableOp', 'bn4a_branch2a/FusedBatchNormV3/ReadVariableOp_1', 'bn4a_branch2a/FusedBatchNormV3', 'res4a_branch2a_relu/Relu', 'padding4a_branch2b/Pad/paddings', 'padding4a_branch2b/Pad', 'res4a_branch2b/kernel', 'res4a_branch2b/convolution/ReadVariableOp', 'res4a_branch2b/convolution', 'bn4a_branch2b/gamma', 'bn4a_branch2b/beta', 'bn4a_branch2b/moving_mean', 'bn4a_branch2b/moving_variance', 'bn4a_branch2b/ReadVariableOp', 'bn4a_branch2b/ReadVariableOp_1', 'bn4a_branch2b/FusedBatchNormV3/ReadVariableOp', 'bn4a_branch2b/FusedBatchNormV3/ReadVariableOp_1', 'bn4a_branch2b/FusedBatchNormV3', 'res4a_branch2b_relu/Relu', 'res4a_branch2c/kernel', 'res4a_branch2c/convolution/ReadVariableOp', 'res4a_branch2c/convolution', 'res4a_branch1/kernel', 'res4a_branch1/convolution/ReadVariableOp', 'res4a_branch1/convolution', 'bn4a_branch2c/gamma', 'bn4a_branch2c/beta', 'bn4a_branch2c/moving_mean', 'bn4a_branch2c/moving_variance', 'bn4a_branch2c/ReadVariableOp', 'bn4a_branch2c/ReadVariableOp_1', 'bn4a_branch2c/FusedBatchNormV3/ReadVariableOp', 'bn4a_branch2c/FusedBatchNormV3/ReadVariableOp_1', 'bn4a_branch2c/FusedBatchNormV3', 'bn4a_branch1/gamma', 'bn4a_branch1/beta', 'bn4a_branch1/moving_mean', 'bn4a_branch1/moving_variance', 'bn4a_branch1/ReadVariableOp', 'bn4a_branch1/ReadVariableOp_1', 'bn4a_branch1/FusedBatchNormV3/ReadVariableOp', 'bn4a_branch1/FusedBatchNormV3/ReadVariableOp_1', 'bn4a_branch1/FusedBatchNormV3', 'res4a/add', 'res4a_relu/Relu', 'res4b_branch2a/kernel', 'res4b_branch2a/convolution/ReadVariableOp', 'res4b_branch2a/convolution', 'bn4b_branch2a/gamma', 'bn4b_branch2a/beta', 'bn4b_branch2a/moving_mean', 'bn4b_branch2a/moving_variance', 'bn4b_branch2a/ReadVariableOp', 'bn4b_branch2a/ReadVariableOp_1', 'bn4b_branch2a/FusedBatchNormV3/ReadVariableOp', 'bn4b_branch2a/FusedBatchNormV3/ReadVariableOp_1', 'bn4b_branch2a/FusedBatchNormV3', 'res4b_branch2a_relu/Relu', 'padding4b_branch2b/Pad/paddings', 'padding4b_branch2b/Pad', 'res4b_branch2b/kernel', 'res4b_branch2b/convolution/ReadVariableOp', 'res4b_branch2b/convolution', 'bn4b_branch2b/gamma', 'bn4b_branch2b/beta', 'bn4b_branch2b/moving_mean', 'bn4b_branch2b/moving_variance', 'bn4b_branch2b/ReadVariableOp', 'bn4b_branch2b/ReadVariableOp_1', 'bn4b_branch2b/FusedBatchNormV3/ReadVariableOp', 'bn4b_branch2b/FusedBatchNormV3/ReadVariableOp_1', 'bn4b_branch2b/FusedBatchNormV3', 'res4b_branch2b_relu/Relu', 'res4b_branch2c/kernel', 'res4b_branch2c/convolution/ReadVariableOp', 'res4b_branch2c/convolution', 'bn4b_branch2c/gamma', 'bn4b_branch2c/beta', 'bn4b_branch2c/moving_mean', 'bn4b_branch2c/moving_variance', 'bn4b_branch2c/ReadVariableOp', 'bn4b_branch2c/ReadVariableOp_1', 'bn4b_branch2c/FusedBatchNormV3/ReadVariableOp', 'bn4b_branch2c/FusedBatchNormV3/ReadVariableOp_1', 'bn4b_branch2c/FusedBatchNormV3', 'res4b/add', 'res4b_relu/Relu', 'res4c_branch2a/kernel', 'res4c_branch2a/convolution/ReadVariableOp', 'res4c_branch2a/convolution', 'bn4c_branch2a/gamma', 'bn4c_branch2a/beta', 'bn4c_branch2a/moving_mean', 'bn4c_branch2a/moving_variance', 'bn4c_branch2a/ReadVariableOp', 'bn4c_branch2a/ReadVariableOp_1', 'bn4c_branch2a/FusedBatchNormV3/ReadVariableOp', 'bn4c_branch2a/FusedBatchNormV3/ReadVariableOp_1', 'bn4c_branch2a/FusedBatchNormV3', 'res4c_branch2a_relu/Relu', 'padding4c_branch2b/Pad/paddings', 'padding4c_branch2b/Pad', 'res4c_branch2b/kernel', 'res4c_branch2b/convolution/ReadVariableOp', 'res4c_branch2b/convolution', 'bn4c_branch2b/gamma', 'bn4c_branch2b/beta', 'bn4c_branch2b/moving_mean', 'bn4c_branch2b/moving_variance', 'bn4c_branch2b/ReadVariableOp', 'bn4c_branch2b/ReadVariableOp_1', 'bn4c_branch2b/FusedBatchNormV3/ReadVariableOp', 'bn4c_branch2b/FusedBatchNormV3/ReadVariableOp_1', 'bn4c_branch2b/FusedBatchNormV3', 'res4c_branch2b_relu/Relu', 'res4c_branch2c/kernel', 'res4c_branch2c/convolution/ReadVariableOp', 'res4c_branch2c/convolution', 'bn4c_branch2c/gamma', 'bn4c_branch2c/beta', 'bn4c_branch2c/moving_mean', 'bn4c_branch2c/moving_variance', 'bn4c_branch2c/ReadVariableOp', 'bn4c_branch2c/ReadVariableOp_1', 'bn4c_branch2c/FusedBatchNormV3/ReadVariableOp', 'bn4c_branch2c/FusedBatchNormV3/ReadVariableOp_1', 'bn4c_branch2c/FusedBatchNormV3', 'res4c/add', 'res4c_relu/Relu', 'res4d_branch2a/kernel', 'res4d_branch2a/convolution/ReadVariableOp', 'res4d_branch2a/convolution', 'bn4d_branch2a/gamma', 'bn4d_branch2a/beta', 'bn4d_branch2a/moving_mean', 'bn4d_branch2a/moving_variance', 'bn4d_branch2a/ReadVariableOp', 'bn4d_branch2a/ReadVariableOp_1', 'bn4d_branch2a/FusedBatchNormV3/ReadVariableOp', 'bn4d_branch2a/FusedBatchNormV3/ReadVariableOp_1', 'bn4d_branch2a/FusedBatchNormV3', 'res4d_branch2a_relu/Relu', 'padding4d_branch2b/Pad/paddings', 'padding4d_branch2b/Pad', 'res4d_branch2b/kernel', 'res4d_branch2b/convolution/ReadVariableOp', 'res4d_branch2b/convolution', 'bn4d_branch2b/gamma', 'bn4d_branch2b/beta', 'bn4d_branch2b/moving_mean', 'bn4d_branch2b/moving_variance', 'bn4d_branch2b/ReadVariableOp', 'bn4d_branch2b/ReadVariableOp_1', 'bn4d_branch2b/FusedBatchNormV3/ReadVariableOp', 'bn4d_branch2b/FusedBatchNormV3/ReadVariableOp_1', 'bn4d_branch2b/FusedBatchNormV3', 'res4d_branch2b_relu/Relu', 'res4d_branch2c/kernel', 'res4d_branch2c/convolution/ReadVariableOp', 'res4d_branch2c/convolution', 'bn4d_branch2c/gamma', 'bn4d_branch2c/beta', 'bn4d_branch2c/moving_mean', 'bn4d_branch2c/moving_variance', 'bn4d_branch2c/ReadVariableOp', 'bn4d_branch2c/ReadVariableOp_1', 'bn4d_branch2c/FusedBatchNormV3/ReadVariableOp', 'bn4d_branch2c/FusedBatchNormV3/ReadVariableOp_1', 'bn4d_branch2c/FusedBatchNormV3', 'res4d/add', 'res4d_relu/Relu', 'res4e_branch2a/kernel', 'res4e_branch2a/convolution/ReadVariableOp', 'res4e_branch2a/convolution', 'bn4e_branch2a/gamma', 'bn4e_branch2a/beta', 'bn4e_branch2a/moving_mean', 'bn4e_branch2a/moving_variance', 'bn4e_branch2a/ReadVariableOp', 'bn4e_branch2a/ReadVariableOp_1', 'bn4e_branch2a/FusedBatchNormV3/ReadVariableOp', 'bn4e_branch2a/FusedBatchNormV3/ReadVariableOp_1', 'bn4e_branch2a/FusedBatchNormV3', 'res4e_branch2a_relu/Relu', 'padding4e_branch2b/Pad/paddings', 'padding4e_branch2b/Pad', 'res4e_branch2b/kernel', 'res4e_branch2b/convolution/ReadVariableOp', 'res4e_branch2b/convolution', 'bn4e_branch2b/gamma', 'bn4e_branch2b/beta', 'bn4e_branch2b/moving_mean', 'bn4e_branch2b/moving_variance', 'bn4e_branch2b/ReadVariableOp', 'bn4e_branch2b/ReadVariableOp_1', 'bn4e_branch2b/FusedBatchNormV3/ReadVariableOp', 'bn4e_branch2b/FusedBatchNormV3/ReadVariableOp_1', 'bn4e_branch2b/FusedBatchNormV3', 'res4e_branch2b_relu/Relu', 'res4e_branch2c/kernel', 'res4e_branch2c/convolution/ReadVariableOp', 'res4e_branch2c/convolution', 'bn4e_branch2c/gamma', 'bn4e_branch2c/beta', 'bn4e_branch2c/moving_mean', 'bn4e_branch2c/moving_variance', 'bn4e_branch2c/ReadVariableOp', 'bn4e_branch2c/ReadVariableOp_1', 'bn4e_branch2c/FusedBatchNormV3/ReadVariableOp', 'bn4e_branch2c/FusedBatchNormV3/ReadVariableOp_1', 'bn4e_branch2c/FusedBatchNormV3', 'res4e/add', 'res4e_relu/Relu', 'res4f_branch2a/kernel', 'res4f_branch2a/convolution/ReadVariableOp', 'res4f_branch2a/convolution', 'bn4f_branch2a/gamma', 'bn4f_branch2a/beta', 'bn4f_branch2a/moving_mean', 'bn4f_branch2a/moving_variance', 'bn4f_branch2a/ReadVariableOp', 'bn4f_branch2a/ReadVariableOp_1', 'bn4f_branch2a/FusedBatchNormV3/ReadVariableOp', 'bn4f_branch2a/FusedBatchNormV3/ReadVariableOp_1', 'bn4f_branch2a/FusedBatchNormV3', 'res4f_branch2a_relu/Relu', 'padding4f_branch2b/Pad/paddings', 'padding4f_branch2b/Pad', 'res4f_branch2b/kernel', 'res4f_branch2b/convolution/ReadVariableOp', 'res4f_branch2b/convolution', 'bn4f_branch2b/gamma', 'bn4f_branch2b/beta', 'bn4f_branch2b/moving_mean', 'bn4f_branch2b/moving_variance', 'bn4f_branch2b/ReadVariableOp', 'bn4f_branch2b/ReadVariableOp_1', 'bn4f_branch2b/FusedBatchNormV3/ReadVariableOp', 'bn4f_branch2b/FusedBatchNormV3/ReadVariableOp_1', 'bn4f_branch2b/FusedBatchNormV3', 'res4f_branch2b_relu/Relu', 'res4f_branch2c/kernel', 'res4f_branch2c/convolution/ReadVariableOp', 'res4f_branch2c/convolution', 'bn4f_branch2c/gamma', 'bn4f_branch2c/beta', 'bn4f_branch2c/moving_mean', 'bn4f_branch2c/moving_variance', 'bn4f_branch2c/ReadVariableOp', 'bn4f_branch2c/ReadVariableOp_1', 'bn4f_branch2c/FusedBatchNormV3/ReadVariableOp', 'bn4f_branch2c/FusedBatchNormV3/ReadVariableOp_1', 'bn4f_branch2c/FusedBatchNormV3', 'res4f/add', 'res4f_relu/Relu', 'res5a_branch2a/kernel', 'res5a_branch2a/convolution/ReadVariableOp', 'res5a_branch2a/convolution', 'bn5a_branch2a/gamma', 'bn5a_branch2a/beta', 'bn5a_branch2a/moving_mean', 'bn5a_branch2a/moving_variance', 'bn5a_branch2a/ReadVariableOp', 'bn5a_branch2a/ReadVariableOp_1', 'bn5a_branch2a/FusedBatchNormV3/ReadVariableOp', 'bn5a_branch2a/FusedBatchNormV3/ReadVariableOp_1', 'bn5a_branch2a/FusedBatchNormV3', 'res5a_branch2a_relu/Relu', 'padding5a_branch2b/Pad/paddings', 'padding5a_branch2b/Pad', 'res5a_branch2b/kernel', 'res5a_branch2b/convolution/ReadVariableOp', 'res5a_branch2b/convolution', 'bn5a_branch2b/gamma', 'bn5a_branch2b/beta', 'bn5a_branch2b/moving_mean', 'bn5a_branch2b/moving_variance', 'bn5a_branch2b/ReadVariableOp', 'bn5a_branch2b/ReadVariableOp_1', 'bn5a_branch2b/FusedBatchNormV3/ReadVariableOp', 'bn5a_branch2b/FusedBatchNormV3/ReadVariableOp_1', 'bn5a_branch2b/FusedBatchNormV3', 'res5a_branch2b_relu/Relu', 'res5a_branch2c/kernel', 'res5a_branch2c/convolution/ReadVariableOp', 'res5a_branch2c/convolution', 'res5a_branch1/kernel', 'res5a_branch1/convolution/ReadVariableOp', 'res5a_branch1/convolution', 'bn5a_branch2c/gamma', 'bn5a_branch2c/beta', 'bn5a_branch2c/moving_mean', 'bn5a_branch2c/moving_variance', 'bn5a_branch2c/ReadVariableOp', 'bn5a_branch2c/ReadVariableOp_1', 'bn5a_branch2c/FusedBatchNormV3/ReadVariableOp', 'bn5a_branch2c/FusedBatchNormV3/ReadVariableOp_1', 'bn5a_branch2c/FusedBatchNormV3', 'bn5a_branch1/gamma', 'bn5a_branch1/beta', 'bn5a_branch1/moving_mean', 'bn5a_branch1/moving_variance', 'bn5a_branch1/ReadVariableOp', 'bn5a_branch1/ReadVariableOp_1', 'bn5a_branch1/FusedBatchNormV3/ReadVariableOp', 'bn5a_branch1/FusedBatchNormV3/ReadVariableOp_1', 'bn5a_branch1/FusedBatchNormV3', 'res5a/add', 'res5a_relu/Relu', 'res5b_branch2a/kernel', 'res5b_branch2a/convolution/ReadVariableOp', 'res5b_branch2a/convolution', 'bn5b_branch2a/gamma', 'bn5b_branch2a/beta', 'bn5b_branch2a/moving_mean', 'bn5b_branch2a/moving_variance', 'bn5b_branch2a/ReadVariableOp', 'bn5b_branch2a/ReadVariableOp_1', 'bn5b_branch2a/FusedBatchNormV3/ReadVariableOp', 'bn5b_branch2a/FusedBatchNormV3/ReadVariableOp_1', 'bn5b_branch2a/FusedBatchNormV3', 'res5b_branch2a_relu/Relu', 'padding5b_branch2b/Pad/paddings', 'padding5b_branch2b/Pad', 'res5b_branch2b/kernel', 'res5b_branch2b/convolution/ReadVariableOp', 'res5b_branch2b/convolution', 'bn5b_branch2b/gamma', 'bn5b_branch2b/beta', 'bn5b_branch2b/moving_mean', 'bn5b_branch2b/moving_variance', 'bn5b_branch2b/ReadVariableOp', 'bn5b_branch2b/ReadVariableOp_1', 'bn5b_branch2b/FusedBatchNormV3/ReadVariableOp', 'bn5b_branch2b/FusedBatchNormV3/ReadVariableOp_1', 'bn5b_branch2b/FusedBatchNormV3', 'res5b_branch2b_relu/Relu', 'res5b_branch2c/kernel', 'res5b_branch2c/convolution/ReadVariableOp', 'res5b_branch2c/convolution', 'bn5b_branch2c/gamma', 'bn5b_branch2c/beta', 'bn5b_branch2c/moving_mean', 'bn5b_branch2c/moving_variance', 'bn5b_branch2c/ReadVariableOp', 'bn5b_branch2c/ReadVariableOp_1', 'bn5b_branch2c/FusedBatchNormV3/ReadVariableOp', 'bn5b_branch2c/FusedBatchNormV3/ReadVariableOp_1', 'bn5b_branch2c/FusedBatchNormV3', 'res5b/add', 'res5b_relu/Relu', 'res5c_branch2a/kernel', 'res5c_branch2a/convolution/ReadVariableOp', 'res5c_branch2a/convolution', 'bn5c_branch2a/gamma', 'bn5c_branch2a/beta', 'bn5c_branch2a/moving_mean', 'bn5c_branch2a/moving_variance', 'bn5c_branch2a/ReadVariableOp', 'bn5c_branch2a/ReadVariableOp_1', 'bn5c_branch2a/FusedBatchNormV3/ReadVariableOp', 'bn5c_branch2a/FusedBatchNormV3/ReadVariableOp_1', 'bn5c_branch2a/FusedBatchNormV3', 'res5c_branch2a_relu/Relu', 'padding5c_branch2b/Pad/paddings', 'padding5c_branch2b/Pad', 'res5c_branch2b/kernel', 'res5c_branch2b/convolution/ReadVariableOp', 'res5c_branch2b/convolution', 'bn5c_branch2b/gamma', 'bn5c_branch2b/beta', 'bn5c_branch2b/moving_mean', 'bn5c_branch2b/moving_variance', 'bn5c_branch2b/ReadVariableOp', 'bn5c_branch2b/ReadVariableOp_1', 'bn5c_branch2b/FusedBatchNormV3/ReadVariableOp', 'bn5c_branch2b/FusedBatchNormV3/ReadVariableOp_1', 'bn5c_branch2b/FusedBatchNormV3', 'res5c_branch2b_relu/Relu', 'res5c_branch2c/kernel', 'res5c_branch2c/convolution/ReadVariableOp', 'res5c_branch2c/convolution', 'bn5c_branch2c/gamma', 'bn5c_branch2c/beta', 'bn5c_branch2c/moving_mean', 'bn5c_branch2c/moving_variance', 'bn5c_branch2c/ReadVariableOp', 'bn5c_branch2c/ReadVariableOp_1', 'bn5c_branch2c/FusedBatchNormV3/ReadVariableOp', 'bn5c_branch2c/FusedBatchNormV3/ReadVariableOp_1', 'bn5c_branch2c/FusedBatchNormV3', 'res5c/add', 'res5c_relu/Relu', 'C5_reduced/kernel', 'C5_reduced/bias', 'C5_reduced/convolution/ReadVariableOp', 'C5_reduced/convolution', 'C5_reduced/BiasAdd/ReadVariableOp', 'C5_reduced/BiasAdd', 'P5_upsampled/Shape', 'P5_upsampled/strided_slice/stack', 'P5_upsampled/strided_slice/stack_1', 'P5_upsampled/strided_slice/stack_2', 'P5_upsampled/strided_slice', 'P5_upsampled/strided_slice_1/stack', 'P5_upsampled/strided_slice_1/stack_1', 'P5_upsampled/strided_slice_1/stack_2', 'P5_upsampled/strided_slice_1', 'P5_upsampled/resize/size', 'P5_upsampled/resize/ResizeNearestNeighbor', 'C4_reduced/kernel', 'C4_reduced/bias', 'C4_reduced/convolution/ReadVariableOp', 'C4_reduced/convolution', 'C4_reduced/BiasAdd/ReadVariableOp', 'C4_reduced/BiasAdd', 'P4_merged/add', 'P4_upsampled/Shape', 'P4_upsampled/strided_slice/stack', 'P4_upsampled/strided_slice/stack_1', 'P4_upsampled/strided_slice/stack_2', 'P4_upsampled/strided_slice', 'P4_upsampled/strided_slice_1/stack', 'P4_upsampled/strided_slice_1/stack_1', 'P4_upsampled/strided_slice_1/stack_2', 'P4_upsampled/strided_slice_1', 'P4_upsampled/resize/size', 'P4_upsampled/resize/ResizeNearestNeighbor', 'C3_reduced/kernel', 'C3_reduced/bias', 'C3_reduced/convolution/ReadVariableOp', 'C3_reduced/convolution', 'C3_reduced/BiasAdd/ReadVariableOp', 'C3_reduced/BiasAdd', 'P6/kernel', 'P6/bias', 'P6/convolution/ReadVariableOp', 'P6/convolution', 'P6/BiasAdd/ReadVariableOp', 'P6/BiasAdd', 'P3_merged/add', 'C6_relu/Relu', 'P3/kernel', 'P3/bias', 'P3/convolution/ReadVariableOp', 'P3/convolution', 'P3/BiasAdd/ReadVariableOp', 'P3/BiasAdd', 'P4/kernel', 'P4/bias', 'P4/convolution/ReadVariableOp', 'P4/convolution', 'P4/BiasAdd/ReadVariableOp', 'P4/BiasAdd', 'P5/kernel', 'P5/bias', 'P5/convolution/ReadVariableOp', 'P5/convolution', 'P5/BiasAdd/ReadVariableOp', 'P5/BiasAdd', 'P7/kernel', 'P7/bias', 'P7/convolution/ReadVariableOp', 'P7/convolution', 'P7/BiasAdd/ReadVariableOp', 'P7/BiasAdd', 'regression_submodel/pyramid_regression_0/convolution/ReadVariableOp', 'regression_submodel/pyramid_regression_0/convolution', 'regression_submodel/pyramid_regression_0/BiasAdd/ReadVariableOp', 'regression_submodel/pyramid_regression_0/BiasAdd', 'regression_submodel/pyramid_regression_0/Relu', 'regression_submodel/pyramid_regression_1/convolution/ReadVariableOp', 'regression_submodel/pyramid_regression_1/convolution', 'regression_submodel/pyramid_regression_1/BiasAdd/ReadVariableOp', 'regression_submodel/pyramid_regression_1/BiasAdd', 'regression_submodel/pyramid_regression_1/Relu', 'regression_submodel/pyramid_regression_2/convolution/ReadVariableOp', 'regression_submodel/pyramid_regression_2/convolution', 'regression_submodel/pyramid_regression_2/BiasAdd/ReadVariableOp', 'regression_submodel/pyramid_regression_2/BiasAdd', 'regression_submodel/pyramid_regression_2/Relu', 'regression_submodel/pyramid_regression_3/convolution/ReadVariableOp', 'regression_submodel/pyramid_regression_3/convolution', 'regression_submodel/pyramid_regression_3/BiasAdd/ReadVariableOp', 'regression_submodel/pyramid_regression_3/BiasAdd', 'regression_submodel/pyramid_regression_3/Relu', 'regression_submodel/pyramid_regression/convolution/ReadVariableOp', 'regression_submodel/pyramid_regression/convolution', 'regression_submodel/pyramid_regression/BiasAdd/ReadVariableOp', 'regression_submodel/pyramid_regression/BiasAdd', 'regression_submodel/pyramid_regression_reshape/Shape', 'regression_submodel/pyramid_regression_reshape/strided_slice/stack', 'regression_submodel/pyramid_regression_reshape/strided_slice/stack_1', 'regression_submodel/pyramid_regression_reshape/strided_slice/stack_2', 'regression_submodel/pyramid_regression_reshape/strided_slice', 'regression_submodel/pyramid_regression_reshape/Reshape/shape/1', 'regression_submodel/pyramid_regression_reshape/Reshape/shape/2', 'regression_submodel/pyramid_regression_reshape/Reshape/shape', 'regression_submodel/pyramid_regression_reshape/Reshape', 'regression_submodel_1/pyramid_regression_0/convolution/ReadVariableOp', 'regression_submodel_1/pyramid_regression_0/convolution', 'regression_submodel_1/pyramid_regression_0/BiasAdd/ReadVariableOp', 'regression_submodel_1/pyramid_regression_0/BiasAdd', 'regression_submodel_1/pyramid_regression_0/Relu', 'regression_submodel_1/pyramid_regression_1/convolution/ReadVariableOp', 'regression_submodel_1/pyramid_regression_1/convolution', 'regression_submodel_1/pyramid_regression_1/BiasAdd/ReadVariableOp', 'regression_submodel_1/pyramid_regression_1/BiasAdd', 'regression_submodel_1/pyramid_regression_1/Relu', 'regression_submodel_1/pyramid_regression_2/convolution/ReadVariableOp', 'regression_submodel_1/pyramid_regression_2/convolution', 'regression_submodel_1/pyramid_regression_2/BiasAdd/ReadVariableOp', 'regression_submodel_1/pyramid_regression_2/BiasAdd', 'regression_submodel_1/pyramid_regression_2/Relu', 'regression_submodel_1/pyramid_regression_3/convolution/ReadVariableOp', 'regression_submodel_1/pyramid_regression_3/convolution', 'regression_submodel_1/pyramid_regression_3/BiasAdd/ReadVariableOp', 'regression_submodel_1/pyramid_regression_3/BiasAdd', 'regression_submodel_1/pyramid_regression_3/Relu', 'regression_submodel_1/pyramid_regression/convolution/ReadVariableOp', 'regression_submodel_1/pyramid_regression/convolution', 'regression_submodel_1/pyramid_regression/BiasAdd/ReadVariableOp', 'regression_submodel_1/pyramid_regression/BiasAdd', 'regression_submodel_1/pyramid_regression_reshape/Shape', 'regression_submodel_1/pyramid_regression_reshape/strided_slice/stack', 'regression_submodel_1/pyramid_regression_reshape/strided_slice/stack_1', 'regression_submodel_1/pyramid_regression_reshape/strided_slice/stack_2', 'regression_submodel_1/pyramid_regression_reshape/strided_slice', 'regression_submodel_1/pyramid_regression_reshape/Reshape/shape/1', 'regression_submodel_1/pyramid_regression_reshape/Reshape/shape/2', 'regression_submodel_1/pyramid_regression_reshape/Reshape/shape', 'regression_submodel_1/pyramid_regression_reshape/Reshape', 'regression_submodel_2/pyramid_regression_0/convolution/ReadVariableOp', 'regression_submodel_2/pyramid_regression_0/convolution', 'regression_submodel_2/pyramid_regression_0/BiasAdd/ReadVariableOp', 'regression_submodel_2/pyramid_regression_0/BiasAdd', 'regression_submodel_2/pyramid_regression_0/Relu', 'regression_submodel_2/pyramid_regression_1/convolution/ReadVariableOp', 'regression_submodel_2/pyramid_regression_1/convolution', 'regression_submodel_2/pyramid_regression_1/BiasAdd/ReadVariableOp', 'regression_submodel_2/pyramid_regression_1/BiasAdd', 'regression_submodel_2/pyramid_regression_1/Relu', 'regression_submodel_2/pyramid_regression_2/convolution/ReadVariableOp', 'regression_submodel_2/pyramid_regression_2/convolution', 'regression_submodel_2/pyramid_regression_2/BiasAdd/ReadVariableOp', 'regression_submodel_2/pyramid_regression_2/BiasAdd', 'regression_submodel_2/pyramid_regression_2/Relu', 'regression_submodel_2/pyramid_regression_3/convolution/ReadVariableOp', 'regression_submodel_2/pyramid_regression_3/convolution', 'regression_submodel_2/pyramid_regression_3/BiasAdd/ReadVariableOp', 'regression_submodel_2/pyramid_regression_3/BiasAdd', 'regression_submodel_2/pyramid_regression_3/Relu', 'regression_submodel_2/pyramid_regression/convolution/ReadVariableOp', 'regression_submodel_2/pyramid_regression/convolution', 'regression_submodel_2/pyramid_regression/BiasAdd/ReadVariableOp', 'regression_submodel_2/pyramid_regression/BiasAdd', 'regression_submodel_2/pyramid_regression_reshape/Shape', 'regression_submodel_2/pyramid_regression_reshape/strided_slice/stack', 'regression_submodel_2/pyramid_regression_reshape/strided_slice/stack_1', 'regression_submodel_2/pyramid_regression_reshape/strided_slice/stack_2', 'regression_submodel_2/pyramid_regression_reshape/strided_slice', 'regression_submodel_2/pyramid_regression_reshape/Reshape/shape/1', 'regression_submodel_2/pyramid_regression_reshape/Reshape/shape/2', 'regression_submodel_2/pyramid_regression_reshape/Reshape/shape', 'regression_submodel_2/pyramid_regression_reshape/Reshape', 'regression_submodel_3/pyramid_regression_0/convolution/ReadVariableOp', 'regression_submodel_3/pyramid_regression_0/convolution', 'regression_submodel_3/pyramid_regression_0/BiasAdd/ReadVariableOp', 'regression_submodel_3/pyramid_regression_0/BiasAdd', 'regression_submodel_3/pyramid_regression_0/Relu', 'regression_submodel_3/pyramid_regression_1/convolution/ReadVariableOp', 'regression_submodel_3/pyramid_regression_1/convolution', 'regression_submodel_3/pyramid_regression_1/BiasAdd/ReadVariableOp', 'regression_submodel_3/pyramid_regression_1/BiasAdd', 'regression_submodel_3/pyramid_regression_1/Relu', 'regression_submodel_3/pyramid_regression_2/convolution/ReadVariableOp', 'regression_submodel_3/pyramid_regression_2/convolution', 'regression_submodel_3/pyramid_regression_2/BiasAdd/ReadVariableOp', 'regression_submodel_3/pyramid_regression_2/BiasAdd', 'regression_submodel_3/pyramid_regression_2/Relu', 'regression_submodel_3/pyramid_regression_3/convolution/ReadVariableOp', 'regression_submodel_3/pyramid_regression_3/convolution', 'regression_submodel_3/pyramid_regression_3/BiasAdd/ReadVariableOp', 'regression_submodel_3/pyramid_regression_3/BiasAdd', 'regression_submodel_3/pyramid_regression_3/Relu', 'regression_submodel_3/pyramid_regression/convolution/ReadVariableOp', 'regression_submodel_3/pyramid_regression/convolution', 'regression_submodel_3/pyramid_regression/BiasAdd/ReadVariableOp', 'regression_submodel_3/pyramid_regression/BiasAdd', 'regression_submodel_3/pyramid_regression_reshape/Shape', 'regression_submodel_3/pyramid_regression_reshape/strided_slice/stack', 'regression_submodel_3/pyramid_regression_reshape/strided_slice/stack_1', 'regression_submodel_3/pyramid_regression_reshape/strided_slice/stack_2', 'regression_submodel_3/pyramid_regression_reshape/strided_slice', 'regression_submodel_3/pyramid_regression_reshape/Reshape/shape/1', 'regression_submodel_3/pyramid_regression_reshape/Reshape/shape/2', 'regression_submodel_3/pyramid_regression_reshape/Reshape/shape', 'regression_submodel_3/pyramid_regression_reshape/Reshape', 'regression_submodel_4/pyramid_regression_0/convolution/ReadVariableOp', 'regression_submodel_4/pyramid_regression_0/convolution', 'regression_submodel_4/pyramid_regression_0/BiasAdd/ReadVariableOp', 'regression_submodel_4/pyramid_regression_0/BiasAdd', 'regression_submodel_4/pyramid_regression_0/Relu', 'regression_submodel_4/pyramid_regression_1/convolution/ReadVariableOp', 'regression_submodel_4/pyramid_regression_1/convolution', 'regression_submodel_4/pyramid_regression_1/BiasAdd/ReadVariableOp', 'regression_submodel_4/pyramid_regression_1/BiasAdd', 'regression_submodel_4/pyramid_regression_1/Relu', 'regression_submodel_4/pyramid_regression_2/convolution/ReadVariableOp', 'regression_submodel_4/pyramid_regression_2/convolution', 'regression_submodel_4/pyramid_regression_2/BiasAdd/ReadVariableOp', 'regression_submodel_4/pyramid_regression_2/BiasAdd', 'regression_submodel_4/pyramid_regression_2/Relu', 'regression_submodel_4/pyramid_regression_3/convolution/ReadVariableOp', 'regression_submodel_4/pyramid_regression_3/convolution', 'regression_submodel_4/pyramid_regression_3/BiasAdd/ReadVariableOp', 'regression_submodel_4/pyramid_regression_3/BiasAdd', 'regression_submodel_4/pyramid_regression_3/Relu', 'regression_submodel_4/pyramid_regression/convolution/ReadVariableOp', 'regression_submodel_4/pyramid_regression/convolution', 'regression_submodel_4/pyramid_regression/BiasAdd/ReadVariableOp', 'regression_submodel_4/pyramid_regression/BiasAdd', 'regression_submodel_4/pyramid_regression_reshape/Shape', 'regression_submodel_4/pyramid_regression_reshape/strided_slice/stack', 'regression_submodel_4/pyramid_regression_reshape/strided_slice/stack_1', 'regression_submodel_4/pyramid_regression_reshape/strided_slice/stack_2', 'regression_submodel_4/pyramid_regression_reshape/strided_slice', 'regression_submodel_4/pyramid_regression_reshape/Reshape/shape/1', 'regression_submodel_4/pyramid_regression_reshape/Reshape/shape/2', 'regression_submodel_4/pyramid_regression_reshape/Reshape/shape', 'regression_submodel_4/pyramid_regression_reshape/Reshape', 'classification_submodel/pyramid_classification_0/convolution/ReadVariableOp', 'classification_submodel/pyramid_classification_0/convolution', 'classification_submodel/pyramid_classification_0/BiasAdd/ReadVariableOp', 'classification_submodel/pyramid_classification_0/BiasAdd', 'classification_submodel/pyramid_classification_0/Relu', 'classification_submodel/pyramid_classification_1/convolution/ReadVariableOp', 'classification_submodel/pyramid_classification_1/convolution', 'classification_submodel/pyramid_classification_1/BiasAdd/ReadVariableOp', 'classification_submodel/pyramid_classification_1/BiasAdd', 'classification_submodel/pyramid_classification_1/Relu', 'classification_submodel/pyramid_classification_2/convolution/ReadVariableOp', 'classification_submodel/pyramid_classification_2/convolution', 'classification_submodel/pyramid_classification_2/BiasAdd/ReadVariableOp', 'classification_submodel/pyramid_classification_2/BiasAdd', 'classification_submodel/pyramid_classification_2/Relu', 'classification_submodel/pyramid_classification_3/convolution/ReadVariableOp', 'classification_submodel/pyramid_classification_3/convolution', 'classification_submodel/pyramid_classification_3/BiasAdd/ReadVariableOp', 'classification_submodel/pyramid_classification_3/BiasAdd', 'classification_submodel/pyramid_classification_3/Relu', 'classification_submodel/pyramid_classification/convolution/ReadVariableOp', 'classification_submodel/pyramid_classification/convolution', 'classification_submodel/pyramid_classification/BiasAdd/ReadVariableOp', 'classification_submodel/pyramid_classification/BiasAdd', 'classification_submodel/pyramid_classification_reshape/Shape', 'classification_submodel/pyramid_classification_reshape/strided_slice/stack', 'classification_submodel/pyramid_classification_reshape/strided_slice/stack_1', 'classification_submodel/pyramid_classification_reshape/strided_slice/stack_2', 'classification_submodel/pyramid_classification_reshape/strided_slice', 'classification_submodel/pyramid_classification_reshape/Reshape/shape/1', 'classification_submodel/pyramid_classification_reshape/Reshape/shape/2', 'classification_submodel/pyramid_classification_reshape/Reshape/shape', 'classification_submodel/pyramid_classification_reshape/Reshape', 'classification_submodel/pyramid_classification_sigmoid/Sigmoid', 'classification_submodel_1/pyramid_classification_0/convolution/ReadVariableOp', 'classification_submodel_1/pyramid_classification_0/convolution', 'classification_submodel_1/pyramid_classification_0/BiasAdd/ReadVariableOp', 'classification_submodel_1/pyramid_classification_0/BiasAdd', 'classification_submodel_1/pyramid_classification_0/Relu', 'classification_submodel_1/pyramid_classification_1/convolution/ReadVariableOp', 'classification_submodel_1/pyramid_classification_1/convolution', 'classification_submodel_1/pyramid_classification_1/BiasAdd/ReadVariableOp', 'classification_submodel_1/pyramid_classification_1/BiasAdd', 'classification_submodel_1/pyramid_classification_1/Relu', 'classification_submodel_1/pyramid_classification_2/convolution/ReadVariableOp', 'classification_submodel_1/pyramid_classification_2/convolution', 'classification_submodel_1/pyramid_classification_2/BiasAdd/ReadVariableOp', 'classification_submodel_1/pyramid_classification_2/BiasAdd', 'classification_submodel_1/pyramid_classification_2/Relu', 'classification_submodel_1/pyramid_classification_3/convolution/ReadVariableOp', 'classification_submodel_1/pyramid_classification_3/convolution', 'classification_submodel_1/pyramid_classification_3/BiasAdd/ReadVariableOp', 'classification_submodel_1/pyramid_classification_3/BiasAdd', 'classification_submodel_1/pyramid_classification_3/Relu', 'classification_submodel_1/pyramid_classification/convolution/ReadVariableOp', 'classification_submodel_1/pyramid_classification/convolution', 'classification_submodel_1/pyramid_classification/BiasAdd/ReadVariableOp', 'classification_submodel_1/pyramid_classification/BiasAdd', 'classification_submodel_1/pyramid_classification_reshape/Shape', 'classification_submodel_1/pyramid_classification_reshape/strided_slice/stack', 'classification_submodel_1/pyramid_classification_reshape/strided_slice/stack_1', 'classification_submodel_1/pyramid_classification_reshape/strided_slice/stack_2', 'classification_submodel_1/pyramid_classification_reshape/strided_slice', 'classification_submodel_1/pyramid_classification_reshape/Reshape/shape/1', 'classification_submodel_1/pyramid_classification_reshape/Reshape/shape/2', 'classification_submodel_1/pyramid_classification_reshape/Reshape/shape', 'classification_submodel_1/pyramid_classification_reshape/Reshape', 'classification_submodel_1/pyramid_classification_sigmoid/Sigmoid', 'classification_submodel_2/pyramid_classification_0/convolution/ReadVariableOp', 'classification_submodel_2/pyramid_classification_0/convolution', 'classification_submodel_2/pyramid_classification_0/BiasAdd/ReadVariableOp', 'classification_submodel_2/pyramid_classification_0/BiasAdd', 'classification_submodel_2/pyramid_classification_0/Relu', 'classification_submodel_2/pyramid_classification_1/convolution/ReadVariableOp', 'classification_submodel_2/pyramid_classification_1/convolution', 'classification_submodel_2/pyramid_classification_1/BiasAdd/ReadVariableOp', 'classification_submodel_2/pyramid_classification_1/BiasAdd', 'classification_submodel_2/pyramid_classification_1/Relu', 'classification_submodel_2/pyramid_classification_2/convolution/ReadVariableOp', 'classification_submodel_2/pyramid_classification_2/convolution', 'classification_submodel_2/pyramid_classification_2/BiasAdd/ReadVariableOp', 'classification_submodel_2/pyramid_classification_2/BiasAdd', 'classification_submodel_2/pyramid_classification_2/Relu', 'classification_submodel_2/pyramid_classification_3/convolution/ReadVariableOp', 'classification_submodel_2/pyramid_classification_3/convolution', 'classification_submodel_2/pyramid_classification_3/BiasAdd/ReadVariableOp', 'classification_submodel_2/pyramid_classification_3/BiasAdd', 'classification_submodel_2/pyramid_classification_3/Relu', 'classification_submodel_2/pyramid_classification/convolution/ReadVariableOp', 'classification_submodel_2/pyramid_classification/convolution', 'classification_submodel_2/pyramid_classification/BiasAdd/ReadVariableOp', 'classification_submodel_2/pyramid_classification/BiasAdd', 'classification_submodel_2/pyramid_classification_reshape/Shape', 'classification_submodel_2/pyramid_classification_reshape/strided_slice/stack', 'classification_submodel_2/pyramid_classification_reshape/strided_slice/stack_1', 'classification_submodel_2/pyramid_classification_reshape/strided_slice/stack_2', 'classification_submodel_2/pyramid_classification_reshape/strided_slice', 'classification_submodel_2/pyramid_classification_reshape/Reshape/shape/1', 'classification_submodel_2/pyramid_classification_reshape/Reshape/shape/2', 'classification_submodel_2/pyramid_classification_reshape/Reshape/shape', 'classification_submodel_2/pyramid_classification_reshape/Reshape', 'classification_submodel_2/pyramid_classification_sigmoid/Sigmoid', 'classification_submodel_3/pyramid_classification_0/convolution/ReadVariableOp', 'classification_submodel_3/pyramid_classification_0/convolution', 'classification_submodel_3/pyramid_classification_0/BiasAdd/ReadVariableOp', 'classification_submodel_3/pyramid_classification_0/BiasAdd', 'classification_submodel_3/pyramid_classification_0/Relu', 'classification_submodel_3/pyramid_classification_1/convolution/ReadVariableOp', 'classification_submodel_3/pyramid_classification_1/convolution', 'classification_submodel_3/pyramid_classification_1/BiasAdd/ReadVariableOp', 'classification_submodel_3/pyramid_classification_1/BiasAdd', 'classification_submodel_3/pyramid_classification_1/Relu', 'classification_submodel_3/pyramid_classification_2/convolution/ReadVariableOp', 'classification_submodel_3/pyramid_classification_2/convolution', 'classification_submodel_3/pyramid_classification_2/BiasAdd/ReadVariableOp', 'classification_submodel_3/pyramid_classification_2/BiasAdd', 'classification_submodel_3/pyramid_classification_2/Relu', 'classification_submodel_3/pyramid_classification_3/convolution/ReadVariableOp', 'classification_submodel_3/pyramid_classification_3/convolution', 'classification_submodel_3/pyramid_classification_3/BiasAdd/ReadVariableOp', 'classification_submodel_3/pyramid_classification_3/BiasAdd', 'classification_submodel_3/pyramid_classification_3/Relu', 'classification_submodel_3/pyramid_classification/convolution/ReadVariableOp', 'classification_submodel_3/pyramid_classification/convolution', 'classification_submodel_3/pyramid_classification/BiasAdd/ReadVariableOp', 'classification_submodel_3/pyramid_classification/BiasAdd', 'classification_submodel_3/pyramid_classification_reshape/Shape', 'classification_submodel_3/pyramid_classification_reshape/strided_slice/stack', 'classification_submodel_3/pyramid_classification_reshape/strided_slice/stack_1', 'classification_submodel_3/pyramid_classification_reshape/strided_slice/stack_2', 'classification_submodel_3/pyramid_classification_reshape/strided_slice', 'classification_submodel_3/pyramid_classification_reshape/Reshape/shape/1', 'classification_submodel_3/pyramid_classification_reshape/Reshape/shape/2', 'classification_submodel_3/pyramid_classification_reshape/Reshape/shape', 'classification_submodel_3/pyramid_classification_reshape/Reshape', 'classification_submodel_3/pyramid_classification_sigmoid/Sigmoid', 'classification_submodel_4/pyramid_classification_0/convolution/ReadVariableOp', 'classification_submodel_4/pyramid_classification_0/convolution', 'classification_submodel_4/pyramid_classification_0/BiasAdd/ReadVariableOp', 'classification_submodel_4/pyramid_classification_0/BiasAdd', 'classification_submodel_4/pyramid_classification_0/Relu', 'classification_submodel_4/pyramid_classification_1/convolution/ReadVariableOp', 'classification_submodel_4/pyramid_classification_1/convolution', 'classification_submodel_4/pyramid_classification_1/BiasAdd/ReadVariableOp', 'classification_submodel_4/pyramid_classification_1/BiasAdd', 'classification_submodel_4/pyramid_classification_1/Relu', 'classification_submodel_4/pyramid_classification_2/convolution/ReadVariableOp', 'classification_submodel_4/pyramid_classification_2/convolution', 'classification_submodel_4/pyramid_classification_2/BiasAdd/ReadVariableOp', 'classification_submodel_4/pyramid_classification_2/BiasAdd', 'classification_submodel_4/pyramid_classification_2/Relu', 'classification_submodel_4/pyramid_classification_3/convolution/ReadVariableOp', 'classification_submodel_4/pyramid_classification_3/convolution', 'classification_submodel_4/pyramid_classification_3/BiasAdd/ReadVariableOp', 'classification_submodel_4/pyramid_classification_3/BiasAdd', 'classification_submodel_4/pyramid_classification_3/Relu', 'classification_submodel_4/pyramid_classification/convolution/ReadVariableOp', 'classification_submodel_4/pyramid_classification/convolution', 'classification_submodel_4/pyramid_classification/BiasAdd/ReadVariableOp', 'classification_submodel_4/pyramid_classification/BiasAdd', 'classification_submodel_4/pyramid_classification_reshape/Shape', 'classification_submodel_4/pyramid_classification_reshape/strided_slice/stack', 'classification_submodel_4/pyramid_classification_reshape/strided_slice/stack_1', 'classification_submodel_4/pyramid_classification_reshape/strided_slice/stack_2', 'classification_submodel_4/pyramid_classification_reshape/strided_slice', 'classification_submodel_4/pyramid_classification_reshape/Reshape/shape/1', 'classification_submodel_4/pyramid_classification_reshape/Reshape/shape/2', 'classification_submodel_4/pyramid_classification_reshape/Reshape/shape', 'classification_submodel_4/pyramid_classification_reshape/Reshape', 'classification_submodel_4/pyramid_classification_sigmoid/Sigmoid', 'regression/concat/axis', 'regression/concat', 'classification/concat/axis', 'classification/concat', 'Variable', 'anchors_0/Shape', 'anchors_0/strided_slice/stack', 'anchors_0/strided_slice/stack_1', 'anchors_0/strided_slice/stack_2', 'anchors_0/strided_slice', 'anchors_0/strided_slice_1/stack', 'anchors_0/strided_slice_1/stack_1', 'anchors_0/strided_slice_1/stack_2', 'anchors_0/strided_slice_1', 'anchors_0/arange/start', 'anchors_0/arange/delta', 'anchors_0/arange', 'anchors_0/Cast', 'anchors_0/Const', 'anchors_0/add', 'anchors_0/mul/y', 'anchors_0/mul', 'anchors_0/strided_slice_2/stack', 'anchors_0/strided_slice_2/stack_1', 'anchors_0/strided_slice_2/stack_2', 'anchors_0/strided_slice_2', 'anchors_0/arange_1/start', 'anchors_0/arange_1/delta', 'anchors_0/arange_1', 'anchors_0/Cast_1', 'anchors_0/Const_1', 'anchors_0/add_1', 'anchors_0/mul_1/y', 'anchors_0/mul_1', 'anchors_0/meshgrid/Reshape/shape', 'anchors_0/meshgrid/Reshape', 'anchors_0/meshgrid/Reshape_1/shape', 'anchors_0/meshgrid/Reshape_1', 'anchors_0/meshgrid/Size', 'anchors_0/meshgrid/Size_1', 'anchors_0/meshgrid/Reshape_2/shape', 'anchors_0/meshgrid/Reshape_2', 'anchors_0/meshgrid/Reshape_3/shape', 'anchors_0/meshgrid/Reshape_3', 'anchors_0/meshgrid/ones/packed', 'anchors_0/meshgrid/ones/Const', 'anchors_0/meshgrid/ones', 'anchors_0/meshgrid/mul', 'anchors_0/meshgrid/mul_1', 'anchors_0/Reshape/shape', 'anchors_0/Reshape', 'anchors_0/Reshape_1/shape', 'anchors_0/Reshape_1', 'anchors_0/stack', 'anchors_0/transpose/perm', 'anchors_0/transpose', 'anchors_0/Shape_1', 'anchors_0/strided_slice_3/stack', 'anchors_0/strided_slice_3/stack_1', 'anchors_0/strided_slice_3/stack_2', 'anchors_0/strided_slice_3', 'anchors_0/Shape_2', 'anchors_0/strided_slice_4/stack', 'anchors_0/strided_slice_4/stack_1', 'anchors_0/strided_slice_4/stack_2', 'anchors_0/strided_slice_4', 'anchors_0/Reshape_2/ReadVariableOp', 'anchors_0/Reshape_2/shape/0', 'anchors_0/Reshape_2/shape/2', 'anchors_0/Reshape_2/shape', 'anchors_0/Reshape_2', 'anchors_0/Reshape_3/shape/1', 'anchors_0/Reshape_3/shape/2', 'anchors_0/Reshape_3/shape', 'anchors_0/Reshape_3', 'anchors_0/add_2', 'anchors_0/mul_2', 'anchors_0/Reshape_4/shape/1', 'anchors_0/Reshape_4/shape', 'anchors_0/Reshape_4', 'anchors_0/ExpandDims/dim', 'anchors_0/ExpandDims', 'anchors_0/strided_slice_5/stack', 'anchors_0/strided_slice_5/stack_1', 'anchors_0/strided_slice_5/stack_2', 'anchors_0/strided_slice_5', 'anchors_0/Tile/multiples/1', 'anchors_0/Tile/multiples/2', 'anchors_0/Tile/multiples', 'anchors_0/Tile', 'Variable_1', 'anchors_1/Shape', 'anchors_1/strided_slice/stack', 'anchors_1/strided_slice/stack_1', 'anchors_1/strided_slice/stack_2', 'anchors_1/strided_slice', 'anchors_1/strided_slice_1/stack', 'anchors_1/strided_slice_1/stack_1', 'anchors_1/strided_slice_1/stack_2', 'anchors_1/strided_slice_1', 'anchors_1/arange/start', 'anchors_1/arange/delta', 'anchors_1/arange', 'anchors_1/Cast', 'anchors_1/Const', 'anchors_1/add', 'anchors_1/mul/y', 'anchors_1/mul', 'anchors_1/strided_slice_2/stack', 'anchors_1/strided_slice_2/stack_1', 'anchors_1/strided_slice_2/stack_2', 'anchors_1/strided_slice_2', 'anchors_1/arange_1/start', 'anchors_1/arange_1/delta', 'anchors_1/arange_1', 'anchors_1/Cast_1', 'anchors_1/Const_1', 'anchors_1/add_1', 'anchors_1/mul_1/y', 'anchors_1/mul_1', 'anchors_1/meshgrid/Reshape/shape', 'anchors_1/meshgrid/Reshape', 'anchors_1/meshgrid/Reshape_1/shape', 'anchors_1/meshgrid/Reshape_1', 'anchors_1/meshgrid/Size', 'anchors_1/meshgrid/Size_1', 'anchors_1/meshgrid/Reshape_2/shape', 'anchors_1/meshgrid/Reshape_2', 'anchors_1/meshgrid/Reshape_3/shape', 'anchors_1/meshgrid/Reshape_3', 'anchors_1/meshgrid/ones/packed', 'anchors_1/meshgrid/ones/Const', 'anchors_1/meshgrid/ones', 'anchors_1/meshgrid/mul', 'anchors_1/meshgrid/mul_1', 'anchors_1/Reshape/shape', 'anchors_1/Reshape', 'anchors_1/Reshape_1/shape', 'anchors_1/Reshape_1', 'anchors_1/stack', 'anchors_1/transpose/perm', 'anchors_1/transpose', 'anchors_1/Shape_1', 'anchors_1/strided_slice_3/stack', 'anchors_1/strided_slice_3/stack_1', 'anchors_1/strided_slice_3/stack_2', 'anchors_1/strided_slice_3', 'anchors_1/Shape_2', 'anchors_1/strided_slice_4/stack', 'anchors_1/strided_slice_4/stack_1', 'anchors_1/strided_slice_4/stack_2', 'anchors_1/strided_slice_4', 'anchors_1/Reshape_2/ReadVariableOp', 'anchors_1/Reshape_2/shape/0', 'anchors_1/Reshape_2/shape/2', 'anchors_1/Reshape_2/shape', 'anchors_1/Reshape_2', 'anchors_1/Reshape_3/shape/1', 'anchors_1/Reshape_3/shape/2', 'anchors_1/Reshape_3/shape', 'anchors_1/Reshape_3', 'anchors_1/add_2', 'anchors_1/mul_2', 'anchors_1/Reshape_4/shape/1', 'anchors_1/Reshape_4/shape', 'anchors_1/Reshape_4', 'anchors_1/ExpandDims/dim', 'anchors_1/ExpandDims', 'anchors_1/strided_slice_5/stack', 'anchors_1/strided_slice_5/stack_1', 'anchors_1/strided_slice_5/stack_2', 'anchors_1/strided_slice_5', 'anchors_1/Tile/multiples/1', 'anchors_1/Tile/multiples/2', 'anchors_1/Tile/multiples', 'anchors_1/Tile', 'Variable_2', 'anchors_2/Shape', 'anchors_2/strided_slice/stack', 'anchors_2/strided_slice/stack_1', 'anchors_2/strided_slice/stack_2', 'anchors_2/strided_slice', 'anchors_2/strided_slice_1/stack', 'anchors_2/strided_slice_1/stack_1', 'anchors_2/strided_slice_1/stack_2', 'anchors_2/strided_slice_1', 'anchors_2/arange/start', 'anchors_2/arange/delta', 'anchors_2/arange', 'anchors_2/Cast', 'anchors_2/Const', 'anchors_2/add', 'anchors_2/mul/y', 'anchors_2/mul', 'anchors_2/strided_slice_2/stack', 'anchors_2/strided_slice_2/stack_1', 'anchors_2/strided_slice_2/stack_2', 'anchors_2/strided_slice_2', 'anchors_2/arange_1/start', 'anchors_2/arange_1/delta', 'anchors_2/arange_1', 'anchors_2/Cast_1', 'anchors_2/Const_1', 'anchors_2/add_1', 'anchors_2/mul_1/y', 'anchors_2/mul_1', 'anchors_2/meshgrid/Reshape/shape', 'anchors_2/meshgrid/Reshape', 'anchors_2/meshgrid/Reshape_1/shape', 'anchors_2/meshgrid/Reshape_1', 'anchors_2/meshgrid/Size', 'anchors_2/meshgrid/Size_1', 'anchors_2/meshgrid/Reshape_2/shape', 'anchors_2/meshgrid/Reshape_2', 'anchors_2/meshgrid/Reshape_3/shape', 'anchors_2/meshgrid/Reshape_3', 'anchors_2/meshgrid/ones/packed', 'anchors_2/meshgrid/ones/Const', 'anchors_2/meshgrid/ones', 'anchors_2/meshgrid/mul', 'anchors_2/meshgrid/mul_1', 'anchors_2/Reshape/shape', 'anchors_2/Reshape', 'anchors_2/Reshape_1/shape', 'anchors_2/Reshape_1', 'anchors_2/stack', 'anchors_2/transpose/perm', 'anchors_2/transpose', 'anchors_2/Shape_1', 'anchors_2/strided_slice_3/stack', 'anchors_2/strided_slice_3/stack_1', 'anchors_2/strided_slice_3/stack_2', 'anchors_2/strided_slice_3', 'anchors_2/Shape_2', 'anchors_2/strided_slice_4/stack', 'anchors_2/strided_slice_4/stack_1', 'anchors_2/strided_slice_4/stack_2', 'anchors_2/strided_slice_4', 'anchors_2/Reshape_2/ReadVariableOp', 'anchors_2/Reshape_2/shape/0', 'anchors_2/Reshape_2/shape/2', 'anchors_2/Reshape_2/shape', 'anchors_2/Reshape_2', 'anchors_2/Reshape_3/shape/1', 'anchors_2/Reshape_3/shape/2', 'anchors_2/Reshape_3/shape', 'anchors_2/Reshape_3', 'anchors_2/add_2', 'anchors_2/mul_2', 'anchors_2/Reshape_4/shape/1', 'anchors_2/Reshape_4/shape', 'anchors_2/Reshape_4', 'anchors_2/ExpandDims/dim', 'anchors_2/ExpandDims', 'anchors_2/strided_slice_5/stack', 'anchors_2/strided_slice_5/stack_1', 'anchors_2/strided_slice_5/stack_2', 'anchors_2/strided_slice_5', 'anchors_2/Tile/multiples/1', 'anchors_2/Tile/multiples/2', 'anchors_2/Tile/multiples', 'anchors_2/Tile', 'Variable_3', 'anchors_3/Shape', 'anchors_3/strided_slice/stack', 'anchors_3/strided_slice/stack_1', 'anchors_3/strided_slice/stack_2', 'anchors_3/strided_slice', 'anchors_3/strided_slice_1/stack', 'anchors_3/strided_slice_1/stack_1', 'anchors_3/strided_slice_1/stack_2', 'anchors_3/strided_slice_1', 'anchors_3/arange/start', 'anchors_3/arange/delta', 'anchors_3/arange', 'anchors_3/Cast', 'anchors_3/Const', 'anchors_3/add', 'anchors_3/mul/y', 'anchors_3/mul', 'anchors_3/strided_slice_2/stack', 'anchors_3/strided_slice_2/stack_1', 'anchors_3/strided_slice_2/stack_2', 'anchors_3/strided_slice_2', 'anchors_3/arange_1/start', 'anchors_3/arange_1/delta', 'anchors_3/arange_1', 'anchors_3/Cast_1', 'anchors_3/Const_1', 'anchors_3/add_1', 'anchors_3/mul_1/y', 'anchors_3/mul_1', 'anchors_3/meshgrid/Reshape/shape', 'anchors_3/meshgrid/Reshape', 'anchors_3/meshgrid/Reshape_1/shape', 'anchors_3/meshgrid/Reshape_1', 'anchors_3/meshgrid/Size', 'anchors_3/meshgrid/Size_1', 'anchors_3/meshgrid/Reshape_2/shape', 'anchors_3/meshgrid/Reshape_2', 'anchors_3/meshgrid/Reshape_3/shape', 'anchors_3/meshgrid/Reshape_3', 'anchors_3/meshgrid/ones/packed', 'anchors_3/meshgrid/ones/Const', 'anchors_3/meshgrid/ones', 'anchors_3/meshgrid/mul', 'anchors_3/meshgrid/mul_1', 'anchors_3/Reshape/shape', 'anchors_3/Reshape', 'anchors_3/Reshape_1/shape', 'anchors_3/Reshape_1', 'anchors_3/stack', 'anchors_3/transpose/perm', 'anchors_3/transpose', 'anchors_3/Shape_1', 'anchors_3/strided_slice_3/stack', 'anchors_3/strided_slice_3/stack_1', 'anchors_3/strided_slice_3/stack_2', 'anchors_3/strided_slice_3', 'anchors_3/Shape_2', 'anchors_3/strided_slice_4/stack', 'anchors_3/strided_slice_4/stack_1', 'anchors_3/strided_slice_4/stack_2', 'anchors_3/strided_slice_4', 'anchors_3/Reshape_2/ReadVariableOp', 'anchors_3/Reshape_2/shape/0', 'anchors_3/Reshape_2/shape/2', 'anchors_3/Reshape_2/shape', 'anchors_3/Reshape_2', 'anchors_3/Reshape_3/shape/1', 'anchors_3/Reshape_3/shape/2', 'anchors_3/Reshape_3/shape', 'anchors_3/Reshape_3', 'anchors_3/add_2', 'anchors_3/mul_2', 'anchors_3/Reshape_4/shape/1', 'anchors_3/Reshape_4/shape', 'anchors_3/Reshape_4', 'anchors_3/ExpandDims/dim', 'anchors_3/ExpandDims', 'anchors_3/strided_slice_5/stack', 'anchors_3/strided_slice_5/stack_1', 'anchors_3/strided_slice_5/stack_2', 'anchors_3/strided_slice_5', 'anchors_3/Tile/multiples/1', 'anchors_3/Tile/multiples/2', 'anchors_3/Tile/multiples', 'anchors_3/Tile', 'Variable_4', 'anchors_4/Shape', 'anchors_4/strided_slice/stack', 'anchors_4/strided_slice/stack_1', 'anchors_4/strided_slice/stack_2', 'anchors_4/strided_slice', 'anchors_4/strided_slice_1/stack', 'anchors_4/strided_slice_1/stack_1', 'anchors_4/strided_slice_1/stack_2', 'anchors_4/strided_slice_1', 'anchors_4/arange/start', 'anchors_4/arange/delta', 'anchors_4/arange', 'anchors_4/Cast', 'anchors_4/Const', 'anchors_4/add', 'anchors_4/mul/y', 'anchors_4/mul', 'anchors_4/strided_slice_2/stack', 'anchors_4/strided_slice_2/stack_1', 'anchors_4/strided_slice_2/stack_2', 'anchors_4/strided_slice_2', 'anchors_4/arange_1/start', 'anchors_4/arange_1/delta', 'anchors_4/arange_1', 'anchors_4/Cast_1', 'anchors_4/Const_1', 'anchors_4/add_1', 'anchors_4/mul_1/y', 'anchors_4/mul_1', 'anchors_4/meshgrid/Reshape/shape', 'anchors_4/meshgrid/Reshape', 'anchors_4/meshgrid/Reshape_1/shape', 'anchors_4/meshgrid/Reshape_1', 'anchors_4/meshgrid/Size', 'anchors_4/meshgrid/Size_1', 'anchors_4/meshgrid/Reshape_2/shape', 'anchors_4/meshgrid/Reshape_2', 'anchors_4/meshgrid/Reshape_3/shape', 'anchors_4/meshgrid/Reshape_3', 'anchors_4/meshgrid/ones/packed', 'anchors_4/meshgrid/ones/Const', 'anchors_4/meshgrid/ones', 'anchors_4/meshgrid/mul', 'anchors_4/meshgrid/mul_1', 'anchors_4/Reshape/shape', 'anchors_4/Reshape', 'anchors_4/Reshape_1/shape', 'anchors_4/Reshape_1', 'anchors_4/stack', 'anchors_4/transpose/perm', 'anchors_4/transpose', 'anchors_4/Shape_1', 'anchors_4/strided_slice_3/stack', 'anchors_4/strided_slice_3/stack_1', 'anchors_4/strided_slice_3/stack_2', 'anchors_4/strided_slice_3', 'anchors_4/Shape_2', 'anchors_4/strided_slice_4/stack', 'anchors_4/strided_slice_4/stack_1', 'anchors_4/strided_slice_4/stack_2', 'anchors_4/strided_slice_4', 'anchors_4/Reshape_2/ReadVariableOp', 'anchors_4/Reshape_2/shape/0', 'anchors_4/Reshape_2/shape/2', 'anchors_4/Reshape_2/shape', 'anchors_4/Reshape_2', 'anchors_4/Reshape_3/shape/1', 'anchors_4/Reshape_3/shape/2', 'anchors_4/Reshape_3/shape', 'anchors_4/Reshape_3', 'anchors_4/add_2', 'anchors_4/mul_2', 'anchors_4/Reshape_4/shape/1', 'anchors_4/Reshape_4/shape', 'anchors_4/Reshape_4', 'anchors_4/ExpandDims/dim', 'anchors_4/ExpandDims', 'anchors_4/strided_slice_5/stack', 'anchors_4/strided_slice_5/stack_1', 'anchors_4/strided_slice_5/stack_2', 'anchors_4/strided_slice_5', 'anchors_4/Tile/multiples/1', 'anchors_4/Tile/multiples/2', 'anchors_4/Tile/multiples', 'anchors_4/Tile', 'anchors/concat/axis', 'anchors/concat', 'boxes/strided_slice/stack', 'boxes/strided_slice/stack_1', 'boxes/strided_slice/stack_2', 'boxes/strided_slice', 'boxes/strided_slice_1/stack', 'boxes/strided_slice_1/stack_1', 'boxes/strided_slice_1/stack_2', 'boxes/strided_slice_1', 'boxes/sub', 'boxes/strided_slice_2/stack', 'boxes/strided_slice_2/stack_1', 'boxes/strided_slice_2/stack_2', 'boxes/strided_slice_2', 'boxes/strided_slice_3/stack', 'boxes/strided_slice_3/stack_1', 'boxes/strided_slice_3/stack_2', 'boxes/strided_slice_3', 'boxes/sub_1', 'boxes/strided_slice_4/stack', 'boxes/strided_slice_4/stack_1', 'boxes/strided_slice_4/stack_2', 'boxes/strided_slice_4', 'boxes/strided_slice_5/stack', 'boxes/strided_slice_5/stack_1', 'boxes/strided_slice_5/stack_2', 'boxes/strided_slice_5', 'boxes/mul/y', 'boxes/mul', 'boxes/add/y', 'boxes/add', 'boxes/mul_1', 'boxes/add_1', 'boxes/strided_slice_6/stack', 'boxes/strided_slice_6/stack_1', 'boxes/strided_slice_6/stack_2', 'boxes/strided_slice_6', 'boxes/strided_slice_7/stack', 'boxes/strided_slice_7/stack_1', 'boxes/strided_slice_7/stack_2', 'boxes/strided_slice_7', 'boxes/mul_2/y', 'boxes/mul_2', 'boxes/add_2/y', 'boxes/add_2', 'boxes/mul_3', 'boxes/add_3', 'boxes/strided_slice_8/stack', 'boxes/strided_slice_8/stack_1', 'boxes/strided_slice_8/stack_2', 'boxes/strided_slice_8', 'boxes/strided_slice_9/stack', 'boxes/strided_slice_9/stack_1', 'boxes/strided_slice_9/stack_2', 'boxes/strided_slice_9', 'boxes/mul_4/y', 'boxes/mul_4', 'boxes/add_4/y', 'boxes/add_4', 'boxes/mul_5', 'boxes/add_5', 'boxes/strided_slice_10/stack', 'boxes/strided_slice_10/stack_1', 'boxes/strided_slice_10/stack_2', 'boxes/strided_slice_10', 'boxes/strided_slice_11/stack', 'boxes/strided_slice_11/stack_1', 'boxes/strided_slice_11/stack_2', 'boxes/strided_slice_11', 'boxes/mul_6/y', 'boxes/mul_6', 'boxes/add_6/y', 'boxes/add_6', 'boxes/mul_7', 'boxes/add_7', 'boxes/stack', 'clipped_boxes/Shape', 'clipped_boxes/Cast', 'clipped_boxes/unstack', 'clipped_boxes/unstack_1', 'clipped_boxes/sub/y', 'clipped_boxes/sub', 'clipped_boxes/clip_by_value/Minimum', 'clipped_boxes/clip_by_value/y', 'clipped_boxes/clip_by_value', 'clipped_boxes/sub_1/y', 'clipped_boxes/sub_1', 'clipped_boxes/clip_by_value_1/Minimum', 'clipped_boxes/clip_by_value_1/y', 'clipped_boxes/clip_by_value_1', 'clipped_boxes/sub_2/y', 'clipped_boxes/sub_2', 'clipped_boxes/clip_by_value_2/Minimum', 'clipped_boxes/clip_by_value_2/y', 'clipped_boxes/clip_by_value_2', 'clipped_boxes/sub_3/y', 'clipped_boxes/sub_3', 'clipped_boxes/clip_by_value_3/Minimum', 'clipped_boxes/clip_by_value_3/y', 'clipped_boxes/clip_by_value_3', 'clipped_boxes/stack', 'filtered_detections/map/Shape', 'filtered_detections/map/strided_slice/stack', 'filtered_detections/map/strided_slice/stack_1', 'filtered_detections/map/strided_slice/stack_2', 'filtered_detections/map/strided_slice', 'filtered_detections/map/TensorArray', 'filtered_detections/map/TensorArray_1', 'filtered_detections/map/TensorArrayUnstack/Shape', 'filtered_detections/map/TensorArrayUnstack/strided_slice/stack', 'filtered_detections/map/TensorArrayUnstack/strided_slice/stack_1', 'filtered_detections/map/TensorArrayUnstack/strided_slice/stack_2', 'filtered_detections/map/TensorArrayUnstack/strided_slice', 'filtered_detections/map/TensorArrayUnstack/range/start', 'filtered_detections/map/TensorArrayUnstack/range/delta', 'filtered_detections/map/TensorArrayUnstack/range', 'filtered_detections/map/TensorArrayUnstack/TensorArrayScatter/TensorArrayScatterV3', 'filtered_detections/map/TensorArrayUnstack_1/Shape', 'filtered_detections/map/TensorArrayUnstack_1/strided_slice/stack', 'filtered_detections/map/TensorArrayUnstack_1/strided_slice/stack_1', 'filtered_detections/map/TensorArrayUnstack_1/strided_slice/stack_2', 'filtered_detections/map/TensorArrayUnstack_1/strided_slice', 'filtered_detections/map/TensorArrayUnstack_1/range/start', 'filtered_detections/map/TensorArrayUnstack_1/range/delta', 'filtered_detections/map/TensorArrayUnstack_1/range', 'filtered_detections/map/TensorArrayUnstack_1/TensorArrayScatter/TensorArrayScatterV3', 'filtered_detections/map/Const', 'filtered_detections/map/TensorArray_2', 'filtered_detections/map/TensorArray_3', 'filtered_detections/map/TensorArray_4', 'filtered_detections/map/while/iteration_counter', 'filtered_detections/map/while/Enter', 'filtered_detections/map/while/Enter_1', 'filtered_detections/map/while/Enter_2', 'filtered_detections/map/while/Enter_3', 'filtered_detections/map/while/Enter_4', 'filtered_detections/map/while/Merge', 'filtered_detections/map/while/Merge_1', 'filtered_detections/map/while/Merge_2', 'filtered_detections/map/while/Merge_3', 'filtered_detections/map/while/Merge_4', 'filtered_detections/map/while/Less', 'filtered_detections/map/while/Less/Enter', 'filtered_detections/map/while/Less_1', 'filtered_detections/map/while/LogicalAnd', 'filtered_detections/map/while/LoopCond', 'filtered_detections/map/while/Switch', 'filtered_detections/map/while/Switch_1', 'filtered_detections/map/while/Switch_2', 'filtered_detections/map/while/Switch_3', 'filtered_detections/map/while/Switch_4', 'filtered_detections/map/while/Identity', 'filtered_detections/map/while/Identity_1', 'filtered_detections/map/while/Identity_2', 'filtered_detections/map/while/Identity_3', 'filtered_detections/map/while/Identity_4', 'filtered_detections/map/while/add/y', 'filtered_detections/map/while/add', 'filtered_detections/map/while/TensorArrayReadV3', 'filtered_detections/map/while/TensorArrayReadV3/Enter', 'filtered_detections/map/while/TensorArrayReadV3/Enter_1', 'filtered_detections/map/while/TensorArrayReadV3_1', 'filtered_detections/map/while/TensorArrayReadV3_1/Enter', 'filtered_detections/map/while/TensorArrayReadV3_1/Enter_1', 'filtered_detections/map/while/strided_slice/stack', 'filtered_detections/map/while/strided_slice/stack_1', 'filtered_detections/map/while/strided_slice/stack_2', 'filtered_detections/map/while/strided_slice', 'filtered_detections/map/while/Shape', 'filtered_detections/map/while/strided_slice_1/stack', 'filtered_detections/map/while/strided_slice_1/stack_1', 'filtered_detections/map/while/strided_slice_1/stack_2', 'filtered_detections/map/while/strided_slice_1', 'filtered_detections/map/while/ones/packed', 'filtered_detections/map/while/ones/Const', 'filtered_detections/map/while/ones', 'filtered_detections/map/while/mul/x', 'filtered_detections/map/while/mul', 'filtered_detections/map/while/Greater/y', 'filtered_detections/map/while/Greater', 'filtered_detections/map/while/Where', 'filtered_detections/map/while/GatherNd', 'filtered_detections/map/while/embedding_lookup/axis', 'filtered_detections/map/while/embedding_lookup', 'filtered_detections/map/while/embedding_lookup/Identity', 'filtered_detections/map/while/strided_slice_2/stack', 'filtered_detections/map/while/strided_slice_2/stack_1', 'filtered_detections/map/while/strided_slice_2/stack_2', 'filtered_detections/map/while/strided_slice_2', 'filtered_detections/map/while/non_max_suppression/iou_threshold', 'filtered_detections/map/while/non_max_suppression/score_threshold', 'filtered_detections/map/while/non_max_suppression/NonMaxSuppressionV3/max_output_size', 'filtered_detections/map/while/non_max_suppression/NonMaxSuppressionV3', 'filtered_detections/map/while/embedding_lookup_1/axis', 'filtered_detections/map/while/embedding_lookup_1', 'filtered_detections/map/while/embedding_lookup_1/Identity', 'filtered_detections/map/while/GatherNd_1', 'filtered_detections/map/while/strided_slice_3/stack', 'filtered_detections/map/while/strided_slice_3/stack_1', 'filtered_detections/map/while/strided_slice_3/stack_2', 'filtered_detections/map/while/strided_slice_3', 'filtered_detections/map/while/stack', 'filtered_detections/map/while/strided_slice_4/stack', 'filtered_detections/map/while/strided_slice_4/stack_1', 'filtered_detections/map/while/strided_slice_4/stack_2', 'filtered_detections/map/while/strided_slice_4', 'filtered_detections/map/while/Shape_1', 'filtered_detections/map/while/strided_slice_5/stack', 'filtered_detections/map/while/strided_slice_5/stack_1', 'filtered_detections/map/while/strided_slice_5/stack_2', 'filtered_detections/map/while/strided_slice_5', 'filtered_detections/map/while/ones_1/packed', 'filtered_detections/map/while/ones_1/Const', 'filtered_detections/map/while/ones_1', 'filtered_detections/map/while/mul_1/x', 'filtered_detections/map/while/mul_1', 'filtered_detections/map/while/Greater_1/y', 'filtered_detections/map/while/Greater_1', 'filtered_detections/map/while/Where_1', 'filtered_detections/map/while/GatherNd_2', 'filtered_detections/map/while/embedding_lookup_2/axis', 'filtered_detections/map/while/embedding_lookup_2', 'filtered_detections/map/while/embedding_lookup_2/Identity', 'filtered_detections/map/while/strided_slice_6/stack', 'filtered_detections/map/while/strided_slice_6/stack_1', 'filtered_detections/map/while/strided_slice_6/stack_2', 'filtered_detections/map/while/strided_slice_6', 'filtered_detections/map/while/non_max_suppression_1/iou_threshold', 'filtered_detections/map/while/non_max_suppression_1/score_threshold', 'filtered_detections/map/while/non_max_suppression_1/NonMaxSuppressionV3/max_output_size', 'filtered_detections/map/while/non_max_suppression_1/NonMaxSuppressionV3', 'filtered_detections/map/while/embedding_lookup_3/axis', 'filtered_detections/map/while/embedding_lookup_3', 'filtered_detections/map/while/embedding_lookup_3/Identity', 'filtered_detections/map/while/GatherNd_3', 'filtered_detections/map/while/strided_slice_7/stack', 'filtered_detections/map/while/strided_slice_7/stack_1', 'filtered_detections/map/while/strided_slice_7/stack_2', 'filtered_detections/map/while/strided_slice_7', 'filtered_detections/map/while/stack_1', 'filtered_detections/map/while/strided_slice_8/stack', 'filtered_detections/map/while/strided_slice_8/stack_1', 'filtered_detections/map/while/strided_slice_8/stack_2', 'filtered_detections/map/while/strided_slice_8', 'filtered_detections/map/while/Shape_2', 'filtered_detections/map/while/strided_slice_9/stack', 'filtered_detections/map/while/strided_slice_9/stack_1', 'filtered_detections/map/while/strided_slice_9/stack_2', 'filtered_detections/map/while/strided_slice_9', 'filtered_detections/map/while/ones_2/packed', 'filtered_detections/map/while/ones_2/Const', 'filtered_detections/map/while/ones_2', 'filtered_detections/map/while/mul_2/x', 'filtered_detections/map/while/mul_2', 'filtered_detections/map/while/Greater_2/y', 'filtered_detections/map/while/Greater_2', 'filtered_detections/map/while/Where_2', 'filtered_detections/map/while/GatherNd_4', 'filtered_detections/map/while/embedding_lookup_4/axis', 'filtered_detections/map/while/embedding_lookup_4', 'filtered_detections/map/while/embedding_lookup_4/Identity', 'filtered_detections/map/while/strided_slice_10/stack', 'filtered_detections/map/while/strided_slice_10/stack_1', 'filtered_detections/map/while/strided_slice_10/stack_2', 'filtered_detections/map/while/strided_slice_10', 'filtered_detections/map/while/non_max_suppression_2/iou_threshold', 'filtered_detections/map/while/non_max_suppression_2/score_threshold', 'filtered_detections/map/while/non_max_suppression_2/NonMaxSuppressionV3/max_output_size', 'filtered_detections/map/while/non_max_suppression_2/NonMaxSuppressionV3', 'filtered_detections/map/while/embedding_lookup_5/axis', 'filtered_detections/map/while/embedding_lookup_5', 'filtered_detections/map/while/embedding_lookup_5/Identity', 'filtered_detections/map/while/GatherNd_5', 'filtered_detections/map/while/strided_slice_11/stack', 'filtered_detections/map/while/strided_slice_11/stack_1', 'filtered_detections/map/while/strided_slice_11/stack_2', 'filtered_detections/map/while/strided_slice_11', 'filtered_detections/map/while/stack_2', 'filtered_detections/map/while/strided_slice_12/stack', 'filtered_detections/map/while/strided_slice_12/stack_1', 'filtered_detections/map/while/strided_slice_12/stack_2', 'filtered_detections/map/while/strided_slice_12', 'filtered_detections/map/while/Shape_3', 'filtered_detections/map/while/strided_slice_13/stack', 'filtered_detections/map/while/strided_slice_13/stack_1', 'filtered_detections/map/while/strided_slice_13/stack_2', 'filtered_detections/map/while/strided_slice_13', 'filtered_detections/map/while/ones_3/packed', 'filtered_detections/map/while/ones_3/Const', 'filtered_detections/map/while/ones_3', 'filtered_detections/map/while/mul_3/x', 'filtered_detections/map/while/mul_3', 'filtered_detections/map/while/Greater_3/y', 'filtered_detections/map/while/Greater_3', 'filtered_detections/map/while/Where_3', 'filtered_detections/map/while/GatherNd_6', 'filtered_detections/map/while/embedding_lookup_6/axis', 'filtered_detections/map/while/embedding_lookup_6', 'filtered_detections/map/while/embedding_lookup_6/Identity', 'filtered_detections/map/while/strided_slice_14/stack', 'filtered_detections/map/while/strided_slice_14/stack_1', 'filtered_detections/map/while/strided_slice_14/stack_2', 'filtered_detections/map/while/strided_slice_14', 'filtered_detections/map/while/non_max_suppression_3/iou_threshold', 'filtered_detections/map/while/non_max_suppression_3/score_threshold', 'filtered_detections/map/while/non_max_suppression_3/NonMaxSuppressionV3/max_output_size', 'filtered_detections/map/while/non_max_suppression_3/NonMaxSuppressionV3', 'filtered_detections/map/while/embedding_lookup_7/axis', 'filtered_detections/map/while/embedding_lookup_7', 'filtered_detections/map/while/embedding_lookup_7/Identity', 'filtered_detections/map/while/GatherNd_7', 'filtered_detections/map/while/strided_slice_15/stack', 'filtered_detections/map/while/strided_slice_15/stack_1', 'filtered_detections/map/while/strided_slice_15/stack_2', 'filtered_detections/map/while/strided_slice_15', 'filtered_detections/map/while/stack_3', 'filtered_detections/map/while/concat/axis', 'filtered_detections/map/while/concat', 'filtered_detections/map/while/GatherNd_8', 'filtered_detections/map/while/strided_slice_16/stack', 'filtered_detections/map/while/strided_slice_16/stack_1', 'filtered_detections/map/while/strided_slice_16/stack_2', 'filtered_detections/map/while/strided_slice_16', 'filtered_detections/map/while/Shape_4', 'filtered_detections/map/while/strided_slice_17/stack', 'filtered_detections/map/while/strided_slice_17/stack_1', 'filtered_detections/map/while/strided_slice_17/stack_2', 'filtered_detections/map/while/strided_slice_17', 'filtered_detections/map/while/Minimum/x', 'filtered_detections/map/while/Minimum', 'filtered_detections/map/while/TopKV2', 'filtered_detections/map/while/strided_slice_18/stack', 'filtered_detections/map/while/strided_slice_18/stack_1', 'filtered_detections/map/while/strided_slice_18/stack_2', 'filtered_detections/map/while/strided_slice_18', 'filtered_detections/map/while/embedding_lookup_8/axis', 'filtered_detections/map/while/embedding_lookup_8', 'filtered_detections/map/while/embedding_lookup_8/Identity', 'filtered_detections/map/while/embedding_lookup_9/axis', 'filtered_detections/map/while/embedding_lookup_9', 'filtered_detections/map/while/embedding_lookup_9/Identity', 'filtered_detections/map/while/embedding_lookup_10/axis', 'filtered_detections/map/while/embedding_lookup_10', 'filtered_detections/map/while/embedding_lookup_10/Identity', 'filtered_detections/map/while/Shape_5', 'filtered_detections/map/while/strided_slice_19/stack', 'filtered_detections/map/while/strided_slice_19/stack_1', 'filtered_detections/map/while/strided_slice_19/stack_2', 'filtered_detections/map/while/strided_slice_19', 'filtered_detections/map/while/sub/x', 'filtered_detections/map/while/sub', 'filtered_detections/map/while/Maximum/x', 'filtered_detections/map/while/Maximum', 'filtered_detections/map/while/PadV2/paddings/0/0', 'filtered_detections/map/while/PadV2/paddings/0', 'filtered_detections/map/while/PadV2/paddings/1_1', 'filtered_detections/map/while/PadV2/paddings', 'filtered_detections/map/while/PadV2/constant_values', 'filtered_detections/map/while/PadV2', 'filtered_detections/map/while/PadV2_1/paddings/0/0', 'filtered_detections/map/while/PadV2_1/paddings/0', 'filtered_detections/map/while/PadV2_1/paddings', 'filtered_detections/map/while/PadV2_1/constant_values', 'filtered_detections/map/while/PadV2_1', 'filtered_detections/map/while/PadV2_2/paddings/0/0', 'filtered_detections/map/while/PadV2_2/paddings/0', 'filtered_detections/map/while/PadV2_2/paddings', 'filtered_detections/map/while/PadV2_2/constant_values', 'filtered_detections/map/while/PadV2_2', 'filtered_detections/map/while/Cast', 'filtered_detections/map/while/TensorArrayWrite/TensorArrayWriteV3', 'filtered_detections/map/while/TensorArrayWrite/TensorArrayWriteV3/Enter', 'filtered_detections/map/while/TensorArrayWrite_1/TensorArrayWriteV3', 'filtered_detections/map/while/TensorArrayWrite_1/TensorArrayWriteV3/Enter', 'filtered_detections/map/while/TensorArrayWrite_2/TensorArrayWriteV3', 'filtered_detections/map/while/TensorArrayWrite_2/TensorArrayWriteV3/Enter', 'filtered_detections/map/while/add_1/y', 'filtered_detections/map/while/add_1', 'filtered_detections/map/while/NextIteration', 'filtered_detections/map/while/NextIteration_1', 'filtered_detections/map/while/NextIteration_2', 'filtered_detections/map/while/NextIteration_3', 'filtered_detections/map/while/NextIteration_4', 'filtered_detections/map/while/Exit_2', 'filtered_detections/map/while/Exit_3', 'filtered_detections/map/while/Exit_4', 'filtered_detections/map/TensorArrayStack/TensorArraySizeV3', 'filtered_detections/map/TensorArrayStack/range/start', 'filtered_detections/map/TensorArrayStack/range/delta', 'filtered_detections/map/TensorArrayStack/range', 'filtered_detections/map/TensorArrayStack/TensorArrayGatherV3', 'filtered_detections/map/TensorArrayStack_1/TensorArraySizeV3', 'filtered_detections/map/TensorArrayStack_1/range/start', 'filtered_detections/map/TensorArrayStack_1/range/delta', 'filtered_detections/map/TensorArrayStack_1/range', 'filtered_detections/map/TensorArrayStack_1/TensorArrayGatherV3', 'filtered_detections/map/TensorArrayStack_2/TensorArraySizeV3', 'filtered_detections/map/TensorArrayStack_2/range/start', 'filtered_detections/map/TensorArrayStack_2/range/delta', 'filtered_detections/map/TensorArrayStack_2/range', 'filtered_detections/map/TensorArrayStack_2/TensorArrayGatherV3']\n"
          ],
          "name": "stdout"
        }
      ]
    },
    {
      "cell_type": "markdown",
      "metadata": {
        "id": "JnTFmrMjRPvr",
        "colab_type": "text"
      },
      "source": [
        "Optimising the Frozen model"
      ]
    },
    {
      "cell_type": "code",
      "metadata": {
        "id": "1YvhZUSiRQ24",
        "colab_type": "code",
        "colab": {
          "base_uri": "https://localhost:8080/",
          "height": 35
        },
        "outputId": "47def7e6-a580-4b9f-d823-46ef71d3f5a0"
      },
      "source": [
        "# Optimization without Qunatization\n",
        "transforms = ['remove_nodes(op=Identity)', \\\n",
        " 'merge_duplicate_nodes', \\\n",
        " 'strip_unused_nodes',\n",
        " 'fold_constants(ignore_errors=true)',\n",
        " 'fold_batch_norms',\n",
        " 'quantize_weights'] #this reduces the size, but there is no speed up , actaully slows down, see below\n",
        "output_node_names = ['filtered_detections/map/TensorArrayStack/TensorArrayGatherV3',\\\n",
        "'filtered_detections/map/TensorArrayStack_1/TensorArrayGatherV3',     \n",
        "'filtered_detections/map/TensorArrayStack_2/TensorArrayGatherV3']\n",
        "\n",
        "optimize_graph('keras-retinanet/5/', 'freezed_model.pb' , transforms, output_node_names,outname='optimized_model_simple.pb')"
      ],
      "execution_count": 23,
      "outputs": [
        {
          "output_type": "stream",
          "text": [
            "Graph optimized!\n"
          ],
          "name": "stdout"
        }
      ]
    },
    {
      "cell_type": "code",
      "metadata": {
        "id": "glIDIFsXRcp9",
        "colab_type": "code",
        "colab": {
          "base_uri": "https://localhost:8080/",
          "height": 105
        },
        "outputId": "fce554db-c0ba-4e20-a99a-a69c5710e9f2"
      },
      "source": [
        "# see https://medium.com/google-cloud/optimizing-tensorflow-models-for-serving-959080e9ddbf\n",
        "print(\"Optimised models\")\n",
        "get_size('keras-retinanet/5/',model_file='optimized_model_simple.pb') \n",
        "\n",
        "# Only weights are quanized - not faster actually slower though size has decreased to just 37 MB from 149 MB!!\n",
        "# Also accuracy seems also to be similar\n",
        "#('Time for ', 10, ' is ', 0.6285901069641113) Non optimized v100\n",
        "#('Time for ', 10, ' is ', 0.6342859268188477) - after optimization but without quanization\n",
        "#('Time for ', 10, ' is ', 1.1140730381011963) After weight quantization  - time became almost doub;e\n",
        "\n",
        "#\"This process converts all the operations in the graph that have eight-bit quantized equivalents, \n",
        "#and leaves the rest in floating point. Only a subset of ops are supported, and on many platforms \n",
        "#the quantized code may actually be slower than the float equivalents, \n",
        "#but this is a way of increasing performance substantially when all the circumstances are right.\n",
        "# from https://github.com/tensorflow/tensorflow/tree/master/tensorflow/tools/graph_transforms#optimizing-for-deployment\n"
      ],
      "execution_count": 24,
      "outputs": [
        {
          "output_type": "stream",
          "text": [
            "Optimised models\n",
            "keras-retinanet/5/optimized_model_simple.pb \n",
            "Model size: 35982.76 KB\n",
            "Variables size: 0.0 KB\n",
            "Total Size: 35982.76 KB\n"
          ],
          "name": "stdout"
        }
      ]
    },
    {
      "cell_type": "markdown",
      "metadata": {
        "id": "I65QenHVRsHA",
        "colab_type": "text"
      },
      "source": [
        ""
      ]
    },
    {
      "cell_type": "code",
      "metadata": {
        "id": "Kp9j-TymRvDE",
        "colab_type": "code",
        "colab": {}
      },
      "source": [
        "# You need to change the outputs for your model\n",
        "outputs = ['filtered_detections/map/TensorArrayStack/TensorArrayGatherV3:0',\\\n",
        "'filtered_detections/map/TensorArrayStack_1/TensorArrayGatherV3:0',     \\\n",
        "'filtered_detections/map/TensorArrayStack_2/TensorArrayGatherV3:0']"
      ],
      "execution_count": 0,
      "outputs": []
    },
    {
      "cell_type": "code",
      "metadata": {
        "id": "4AjprPOnR2MW",
        "colab_type": "code",
        "colab": {
          "base_uri": "https://localhost:8080/",
          "height": 87
        },
        "outputId": "7e4f958f-2f0c-493e-aa81-672ead8c7c12"
      },
      "source": [
        "%mkdir /content/keras-retinanet/keras-retinanet/6\n",
        "export_path = os.path.join('keras-retinanet')\n",
        "if os.path.exists( export_path+\"/6\"):\n",
        "    shutil.rmtree( export_path+\"/6\")\n",
        "convert_graph_def_to_saved_model('keras-retinanet/6/', 'keras-retinanet/5/optimized_model_simple.pb')"
      ],
      "execution_count": 26,
      "outputs": [
        {
          "output_type": "stream",
          "text": [
            "INFO:tensorflow:Assets added to graph.\n",
            "INFO:tensorflow:No assets to write.\n",
            "INFO:tensorflow:SavedModel written to: keras-retinanet/6/saved_model.pb\n",
            "Optimized graph converted to SavedModel!\n"
          ],
          "name": "stdout"
        }
      ]
    },
    {
      "cell_type": "markdown",
      "metadata": {
        "id": "nOpKgHz_noW5",
        "colab_type": "text"
      },
      "source": [
        "Optimise by tensorRT"
      ]
    },
    {
      "cell_type": "code",
      "metadata": {
        "id": "ekLIMKalnrn6",
        "colab_type": "code",
        "colab": {
          "base_uri": "https://localhost:8080/",
          "height": 158
        },
        "outputId": "a024eb5e-b024-4b08-e7d3-15ddffafdf5c"
      },
      "source": [
        "import tensorflow as tf\n",
        "import tensorflow.contrib.tensorrt as trt"
      ],
      "execution_count": 27,
      "outputs": [
        {
          "output_type": "stream",
          "text": [
            "WARNING:tensorflow:\n",
            "The TensorFlow contrib module will not be included in TensorFlow 2.0.\n",
            "For more information, please see:\n",
            "  * https://github.com/tensorflow/community/blob/master/rfcs/20180907-contrib-sunset.md\n",
            "  * https://github.com/tensorflow/addons\n",
            "  * https://github.com/tensorflow/io (for I/O related ops)\n",
            "If you depend on functionality not listed there, please file an issue.\n",
            "\n"
          ],
          "name": "stdout"
        }
      ]
    },
    {
      "cell_type": "code",
      "metadata": {
        "id": "mv6K_7Udnv9s",
        "colab_type": "code",
        "colab": {}
      },
      "source": [
        "# You need to change the outputs for your model\n",
        "outputs = ['filtered_detections/map/TensorArrayStack/TensorArrayGatherV3:0',\\\n",
        "'filtered_detections/map/TensorArrayStack_1/TensorArrayGatherV3:0',     \\\n",
        "'filtered_detections/map/TensorArrayStack_2/TensorArrayGatherV3:0']"
      ],
      "execution_count": 0,
      "outputs": []
    },
    {
      "cell_type": "code",
      "metadata": {
        "id": "SuT5y_CBn2Ha",
        "colab_type": "code",
        "colab": {
          "base_uri": "https://localhost:8080/",
          "height": 175
        },
        "outputId": "712a73c8-5d27-4999-ac00-624264c566e3"
      },
      "source": [
        "# Inference with TF-TRT `SavedModel` workflow:\n",
        "%mkdir /content/keras-retinanet/keras-retinanet/inference_tensorRT\n",
        "export_path = os.path.join('keras-retinanet')\n",
        "if os.path.exists( export_path+\"/inference_tensorRT\"):\n",
        "    shutil.rmtree( export_path+\"/inference_tensorRT\")\n",
        "    \n",
        "export_path = export_path+\"/inference_tensorRT\"\n",
        "\n",
        "\n",
        "tf.reset_default_graph()\n",
        "graph = tf.Graph()\n",
        "sess = tf.Session()\n",
        "# Create a TensorRT inference graph from a SavedModel:\n",
        "with graph.as_default():\n",
        "    with tf.Session() as sess:\n",
        "        trt_graph = trt.create_inference_graph(\n",
        "            input_graph_def=None,\n",
        "            outputs=outputs,\n",
        "            input_saved_model_dir='keras-retinanet/4/',\n",
        "            input_saved_model_tags=['serve'],\n",
        "            max_batch_size=1,\n",
        "            max_workspace_size_bytes=7000000000,\n",
        "            #precision_mode='FP16') \n",
        "            precision_mode='FP32')\n",
        "            #precision_mode='INT8')\n",
        "        output_node=tf.import_graph_def(trt_graph, return_elements=outputs)\n",
        "        #sess.run(output_node)\n",
        "        tf.saved_model.simple_save(sess,\n",
        "        export_path,\n",
        "        inputs={'input_image': graph.get_tensor_by_name('{}:0'.format(node.name))\n",
        "            for node in graph.as_graph_def().node if node.op=='Placeholder'},\n",
        "        outputs={t:graph.get_tensor_by_name('import/'+t) for t in outputs}\n",
        "    \n",
        "    )"
      ],
      "execution_count": 29,
      "outputs": [
        {
          "output_type": "stream",
          "text": [
            "INFO:tensorflow:Linked TensorRT version: (0, 0, 0)\n",
            "INFO:tensorflow:Loaded TensorRT version: (0, 0, 0)\n",
            "INFO:tensorflow:Running against TensorRT version 0.0.0\n",
            "INFO:tensorflow:Restoring parameters from keras-retinanet/4/variables/variables\n",
            "INFO:tensorflow:Froze 306 variables.\n",
            "INFO:tensorflow:Converted 306 variables to const ops.\n",
            "INFO:tensorflow:Assets added to graph.\n",
            "INFO:tensorflow:No assets to write.\n",
            "INFO:tensorflow:SavedModel written to: keras-retinanet/inference_tensorRT/saved_model.pb\n"
          ],
          "name": "stdout"
        }
      ]
    },
    {
      "cell_type": "code",
      "metadata": {
        "id": "1Cq9bOQKs1Al",
        "colab_type": "code",
        "colab": {
          "base_uri": "https://localhost:8080/",
          "height": 422
        },
        "outputId": "af503604-30ea-4b50-8d3d-0be95d1ccc74"
      },
      "source": [
        "!saved_model_cli show --dir 'keras-retinanet/inference_tensorRT/' --all"
      ],
      "execution_count": 31,
      "outputs": [
        {
          "output_type": "stream",
          "text": [
            "\n",
            "MetaGraphDef with tag-set: 'serve' contains the following SignatureDefs:\n",
            "\n",
            "signature_def['serving_default']:\n",
            "  The given SavedModel SignatureDef contains the following input(s):\n",
            "    inputs['input_image'] tensor_info:\n",
            "        dtype: DT_FLOAT\n",
            "        shape: (-1, -1, -1, 3)\n",
            "        name: import/input_1:0\n",
            "  The given SavedModel SignatureDef contains the following output(s):\n",
            "    outputs['filtered_detections/map/TensorArrayStack/TensorArrayGatherV3:0'] tensor_info:\n",
            "        dtype: DT_FLOAT\n",
            "        shape: unknown_rank\n",
            "        name: import/filtered_detections/map/TensorArrayStack/TensorArrayGatherV3:0\n",
            "    outputs['filtered_detections/map/TensorArrayStack_1/TensorArrayGatherV3:0'] tensor_info:\n",
            "        dtype: DT_FLOAT\n",
            "        shape: unknown_rank\n",
            "        name: import/filtered_detections/map/TensorArrayStack_1/TensorArrayGatherV3:0\n",
            "    outputs['filtered_detections/map/TensorArrayStack_2/TensorArrayGatherV3:0'] tensor_info:\n",
            "        dtype: DT_INT32\n",
            "        shape: unknown_rank\n",
            "        name: import/filtered_detections/map/TensorArrayStack_2/TensorArrayGatherV3:0\n",
            "  Method name is: tensorflow/serving/predict\n"
          ],
          "name": "stdout"
        }
      ]
    },
    {
      "cell_type": "code",
      "metadata": {
        "id": "sIGDl76mtGhh",
        "colab_type": "code",
        "colab": {
          "base_uri": "https://localhost:8080/",
          "height": 123
        },
        "outputId": "a16652a6-fbc0-499b-cf2d-ad3b347f3830"
      },
      "source": [
        "# Inference with TF-TRT `Frozen` workflow:\n",
        "# https://medium.com/tensorflow/speed-up-tensorflow-inference-on-gpus-with-tensorrt-13b49f3db3fa\n",
        "%mkdir /content/keras-retinanet/keras-retinanet/inference_tensorRT1\n",
        "export_path = os.path.join('keras-retinanet')\n",
        "if os.path.exists( export_path+\"/inference_tensorRT1\"):\n",
        "    shutil.rmtree( export_path+\"/inference_tensorRT1\")\n",
        "    \n",
        "export_path = export_path+\"/inference_tensorRT1\"\n",
        "\n",
        "#Lets load a frozen model\n",
        "gdef =get_graph_def_from_file('keras-retinanet/5/freezed_model.pb')\n",
        "\n",
        "tf.reset_default_graph()\n",
        "graph = tf.Graph()\n",
        "sess = tf.Session()\n",
        "# Create a TensorRT inference graph from a SavedModel:\n",
        "with graph.as_default():\n",
        "    with tf.Session() as sess:\n",
        "        trt_graph = trt.create_inference_graph(\n",
        "            input_graph_def=gdef,\n",
        "            outputs=outputs,\n",
        "            max_batch_size=1,\n",
        "            max_workspace_size_bytes=7000000000,\n",
        "            precision_mode='FP16') \n",
        "            #precision_mode='FP32')\n",
        "            #precision_mode='INT8')\n",
        "        output_node=tf.import_graph_def(trt_graph, return_elements=outputs)\n",
        "        #sess.run(output_node)\n",
        "        tf.saved_model.simple_save(sess,\n",
        "        export_path,\n",
        "        inputs={'input_image': graph.get_tensor_by_name('{}:0'.format(node.name))\n",
        "            for node in graph.as_graph_def().node if node.op=='Placeholder'},\n",
        "        outputs={t:graph.get_tensor_by_name('import/'+t) for t in outputs}\n",
        "    \n",
        "    )"
      ],
      "execution_count": 31,
      "outputs": [
        {
          "output_type": "stream",
          "text": [
            "INFO:tensorflow:Linked TensorRT version: (0, 0, 0)\n",
            "INFO:tensorflow:Loaded TensorRT version: (0, 0, 0)\n",
            "INFO:tensorflow:Running against TensorRT version 0.0.0\n",
            "INFO:tensorflow:Assets added to graph.\n",
            "INFO:tensorflow:No assets to write.\n",
            "INFO:tensorflow:SavedModel written to: keras-retinanet/inference_tensorRT1/saved_model.pb\n"
          ],
          "name": "stdout"
        }
      ]
    },
    {
      "cell_type": "code",
      "metadata": {
        "id": "zjl3mGGGthyc",
        "colab_type": "code",
        "colab": {
          "base_uri": "https://localhost:8080/",
          "height": 123
        },
        "outputId": "8b9b99ad-e335-405e-eaab-384978ecb065"
      },
      "source": [
        "# Inference with TF-TRT `Frozen` workflow:\n",
        "# https://medium.com/tensorflow/speed-up-tensorflow-inference-on-gpus-with-tensorrt-13b49f3db3fa\n",
        "%mkdir /content/keras-retinanet/keras-retinanet/inference_tensorRT2\n",
        "export_path = os.path.join('keras-retinanet')\n",
        "if os.path.exists( export_path+\"/inference_tensorRT2\"):\n",
        "    shutil.rmtree( export_path+\"/inference_tensorRT2\")\n",
        "    \n",
        "export_path = export_path+\"/inference_tensorRT2\"\n",
        "\n",
        "#Lets load a frozen model\n",
        "gdef =get_graph_def_from_file('keras-retinanet/5/freezed_model.pb')\n",
        "\n",
        "tf.reset_default_graph()\n",
        "graph = tf.Graph()\n",
        "sess = tf.Session()\n",
        "# Create a TensorRT inference graph from a SavedModel:\n",
        "with graph.as_default():\n",
        "    with tf.Session() as sess:\n",
        "        trt_graph = trt.create_inference_graph(\n",
        "            input_graph_def=gdef,\n",
        "            outputs=outputs,\n",
        "            max_batch_size=1,\n",
        "            max_workspace_size_bytes=7000000000,\n",
        "            #precision_mode='FP16') \n",
        "            #precision_mode='FP32')\n",
        "            precision_mode='INT8')\n",
        "        output_node=tf.import_graph_def(trt_graph, return_elements=outputs)\n",
        "        #sess.run(output_node)\n",
        "        tf.saved_model.simple_save(sess,\n",
        "        export_path,\n",
        "        inputs={'input_image': graph.get_tensor_by_name('{}:0'.format(node.name))\n",
        "            for node in graph.as_graph_def().node if node.op=='Placeholder'},\n",
        "        outputs={t:graph.get_tensor_by_name('import/'+t) for t in outputs}\n",
        "    \n",
        "    )"
      ],
      "execution_count": 33,
      "outputs": [
        {
          "output_type": "stream",
          "text": [
            "INFO:tensorflow:Linked TensorRT version: (0, 0, 0)\n",
            "INFO:tensorflow:Loaded TensorRT version: (0, 0, 0)\n",
            "INFO:tensorflow:Running against TensorRT version 0.0.0\n",
            "INFO:tensorflow:Assets added to graph.\n",
            "INFO:tensorflow:No assets to write.\n",
            "INFO:tensorflow:SavedModel written to: keras-retinanet/inference_tensorRT2/saved_model.pb\n"
          ],
          "name": "stdout"
        }
      ]
    },
    {
      "cell_type": "code",
      "metadata": {
        "id": "fh5rknVguZA8",
        "colab_type": "code",
        "colab": {
          "base_uri": "https://localhost:8080/",
          "height": 281
        },
        "outputId": "f1decb2b-e9ba-4ac4-aacd-eb3597dbec89"
      },
      "source": [
        "print(\"---------NVIDIA RT Optimised model FP32\")\n",
        "get_size('keras-retinanet/inference_tensorRT/',model_file='saved_model.pb') #also nodes quantized\n",
        "print(\"---------NVIDIA RT Optimised model FP16\")\n",
        "get_size('keras-retinanet/inference_tensorRT1/',model_file='saved_model.pb') #also nodes quantized\n",
        "print(\"-------NVIDIA RT Optimised model INT8\")\n",
        "get_size('keras-retinanet/inference_tensorRT2/',model_file='saved_model.pb') #also nodes quantized"
      ],
      "execution_count": 34,
      "outputs": [
        {
          "output_type": "stream",
          "text": [
            "---------NVIDIA RT Optimised model FP32\n",
            "keras-retinanet/inference_tensorRT/saved_model.pb \n",
            "Model size: 219049.253 KB\n",
            "Variables size: 0.0 KB\n",
            "Total Size: 219049.253 KB\n",
            "---------NVIDIA RT Optimised model FP16\n",
            "keras-retinanet/inference_tensorRT1/saved_model.pb \n",
            "Model size: 219049.253 KB\n",
            "Variables size: 0.0 KB\n",
            "Total Size: 219049.253 KB\n",
            "-------NVIDIA RT Optimised model INT8\n",
            "keras-retinanet/inference_tensorRT2/saved_model.pb \n",
            "Model size: 219049.253 KB\n",
            "Variables size: 0.0 KB\n",
            "Total Size: 219049.253 KB\n"
          ],
          "name": "stdout"
        }
      ]
    },
    {
      "cell_type": "code",
      "metadata": {
        "id": "JAvoVo-Kvepf",
        "colab_type": "code",
        "colab": {
          "base_uri": "https://localhost:8080/",
          "height": 319
        },
        "outputId": "84052632-57b3-4bff-f096-362fb9d7b98a"
      },
      "source": [
        "%mkdir /content/drive/My\\ Drive/detection_models/inference\n",
        "%mkdir /content/drive/My\\ Drive/detection_models/inference/tensorRT1\n",
        "%mkdir /content/drive/My\\ Drive/detection_models/inference/tensorRT2\n",
        "%mkdir /content/drive/My\\ Drive/detection_models/inference/tensorRT3\n",
        "%mv -v /content/keras-retinanet/keras-retinanet/inference_tensorRT/* /content/drive/My\\ Drive/detection_models/inference/tensorRT1/\n",
        "%mv -v /content/keras-retinanet/keras-retinanet/inference_tensorRT1/* /content/drive/My\\ Drive/detection_models/inference/tensorRT2/\n",
        "%mv -v /content/keras-retinanet/keras-retinanet/inference_tensorRT2/* /content/drive/My\\ Drive/detection_models/inference/tensorRT3/"
      ],
      "execution_count": 35,
      "outputs": [
        {
          "output_type": "stream",
          "text": [
            "mkdir: cannot create directory ‘/content/drive/My Drive/detection_models/inference’: File exists\n",
            "mkdir: cannot create directory ‘/content/drive/My Drive/detection_models/inference/tensorRT1’: File exists\n",
            "mkdir: cannot create directory ‘/content/drive/My Drive/detection_models/inference/tensorRT2’: File exists\n",
            "mkdir: cannot create directory ‘/content/drive/My Drive/detection_models/inference/tensorRT3’: File exists\n",
            "copied '/content/keras-retinanet/keras-retinanet/inference_tensorRT/saved_model.pb' -> '/content/drive/My Drive/detection_models/inference/tensorRT1/saved_model.pb'\n",
            "removed '/content/keras-retinanet/keras-retinanet/inference_tensorRT/saved_model.pb'\n",
            "created directory '/content/drive/My Drive/detection_models/inference/tensorRT1/variables'\n",
            "removed directory '/content/keras-retinanet/keras-retinanet/inference_tensorRT/variables'\n",
            "copied '/content/keras-retinanet/keras-retinanet/inference_tensorRT1/saved_model.pb' -> '/content/drive/My Drive/detection_models/inference/tensorRT2/saved_model.pb'\n",
            "removed '/content/keras-retinanet/keras-retinanet/inference_tensorRT1/saved_model.pb'\n",
            "created directory '/content/drive/My Drive/detection_models/inference/tensorRT2/variables'\n",
            "removed directory '/content/keras-retinanet/keras-retinanet/inference_tensorRT1/variables'\n",
            "copied '/content/keras-retinanet/keras-retinanet/inference_tensorRT2/saved_model.pb' -> '/content/drive/My Drive/detection_models/inference/tensorRT3/saved_model.pb'\n",
            "removed '/content/keras-retinanet/keras-retinanet/inference_tensorRT2/saved_model.pb'\n",
            "created directory '/content/drive/My Drive/detection_models/inference/tensorRT3/variables'\n",
            "removed directory '/content/keras-retinanet/keras-retinanet/inference_tensorRT2/variables'\n"
          ],
          "name": "stdout"
        }
      ]
    }
  ]
}